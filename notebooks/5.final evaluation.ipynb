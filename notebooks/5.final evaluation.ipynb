{
 "cells": [
  {
   "cell_type": "markdown",
   "metadata": {},
   "source": [
    "# Final evaluation"
   ]
  },
  {
   "cell_type": "code",
   "execution_count": 1,
   "metadata": {
    "ExecuteTime": {
     "end_time": "2020-06-03T01:07:52.460902Z",
     "start_time": "2020-06-03T01:07:51.342841Z"
    }
   },
   "outputs": [],
   "source": [
    "# dependencies loading\n",
    "import pandas as pd\n",
    "import numpy as np\n",
    "import matplotlib.pyplot as plt\n",
    "import seaborn as sns\n",
    "import pickle\n",
    "from tqdm import tqdm\n",
    "from scipy.stats import uniform\n",
    "from sklearn.inspection import permutation_importance\n",
    "from sklearn.feature_selection import SequentialFeatureSelector as SFS\n",
    "from sklearn.feature_selection import RFECV\n",
    "from sklearn.neighbors import KNeighborsClassifier\n",
    "from sklearn.ensemble import RandomForestClassifier\n",
    "from sklearn.tree  import DecisionTreeClassifier\n",
    "import sklearn_relief as sr\n",
    "from sklearn.preprocessing import StandardScaler\n",
    "from sklearn.preprocessing import MinMaxScaler\n",
    "from sklearn.mixture import GaussianMixture\n",
    "from sklearn.model_selection import train_test_split\n",
    "from sklearn.linear_model import (\n",
    "    LinearRegression,\n",
    "    Lasso,\n",
    "    Ridge,\n",
    "    ElasticNet\n",
    ")\n",
    "import statsmodels.api as sm\n",
    "import statsmodels.formula.api as smf\n",
    "from sklearn.dummy import DummyRegressor\n",
    "from sklearn.model_selection import (\n",
    "    KFold,\n",
    "    ShuffleSplit,\n",
    "    cross_val_score,\n",
    "    cross_validate,\n",
    "    RandomizedSearchCV,\n",
    "    GridSearchCV\n",
    ")\n",
    "from sklearn.metrics import (\n",
    "    mean_squared_error,\n",
    "    mean_absolute_error,\n",
    "    median_absolute_error,\n",
    "    mean_absolute_percentage_error,\n",
    "    r2_score,\n",
    "    make_scorer\n",
    ")\n",
    "\n",
    "import warnings\n",
    "from sklearn.exceptions import FitFailedWarning\n",
    "warnings.filterwarnings(\"ignore\", category=FitFailedWarning)\n",
    "warnings.filterwarnings(\"ignore\", category=UserWarning)\n",
    "\n",
    "sns.set_style(\"whitegrid\")\n",
    "\n",
    "#set Pandas display option \n",
    "pd.set_option('display.max_columns', None)\n",
    "pd.set_option(\"display.max_rows\", 500)\n",
    "\n",
    "#set figure size\n",
    "plt.rcParams['figure.figsize'] = (8, 6)\n",
    "\n",
    "#ensure that code is reproducible by setting random seed\n",
    "np.random.seed(1916) "
   ]
  },
  {
   "cell_type": "markdown",
   "metadata": {},
   "source": [
    "We have to use our 3 models to score our test set"
   ]
  },
  {
   "cell_type": "markdown",
   "metadata": {},
   "source": [
    "# KNN"
   ]
  },
  {
   "cell_type": "code",
   "execution_count": 2,
   "metadata": {
    "ExecuteTime": {
     "end_time": "2020-06-03T01:07:54.561138Z",
     "start_time": "2020-06-03T01:07:54.467149Z"
    }
   },
   "outputs": [],
   "source": [
    "#df_train = pd.read_csv(\"../data/output/after_encoding_train.csv\", index_col=0)\n",
    "#df_test = pd.read_csv(\"../data/output/after_encoding_test.csv\", index_col=0)\n",
    "\n",
    "df_train = pd.read_csv(\"C:/Users/adria/Desktop/in-vehicle-coupon-recommendation/data/output/after_encoding_train.csv\", index_col=0)\n",
    "df_test = pd.read_csv(\"C:/Users/adria/Desktop/in-vehicle-coupon-recommendation/data/output/after_encoding_test.csv\", index_col=0)"
   ]
  },
  {
   "cell_type": "code",
   "execution_count": 5,
   "metadata": {
    "ExecuteTime": {
     "end_time": "2020-06-03T01:07:54.630116Z",
     "start_time": "2020-06-03T01:07:54.595076Z"
    }
   },
   "outputs": [],
   "source": [
    "#model = pickle.load(open(\"../models/knn.sav\", 'rb'))\n",
    "model = pickle.load(open(\"C:/Users/adria/Desktop/in-vehicle-coupon-recommendation/models/knn.sav\", 'rb'))"
   ]
  },
  {
   "cell_type": "code",
   "execution_count": 9,
   "metadata": {
    "ExecuteTime": {
     "end_time": "2020-06-03T01:07:54.745057Z",
     "start_time": "2020-06-03T01:07:54.631134Z"
    }
   },
   "outputs": [
    {
     "data": {
      "text/plain": [
       "array([0, 1, 1, ..., 1, 1, 0], dtype=int64)"
      ]
     },
     "execution_count": 9,
     "metadata": {},
     "output_type": "execute_result"
    }
   ],
   "source": [
    "X = [\"('never',).5\", \"('Carry out & Take away',)\", \"('4~8',).5\", \"('Restaurant(<20)',)\", \"('1~3',).5\", \"('Bar',)\", \"('2h',)\", \"('1d',)\", \"('Friend(s)',)\", \"('No Urgent Place',)\", \"('never',).1\", 'to_Coupon', \"('1~3',).1\", 'toCoupon_GEQ25min', \"('Alone',)\", \"('Sunny',)\", \"('Coffee House',)\", \"('gt8',).5\", \"('Restaurant(20-50)',)\", \"('2PM',)\"]\n",
    "y_pred = model.predict(df_test.loc[:,X].values)\n",
    "y_pred"
   ]
  },
  {
   "cell_type": "code",
   "execution_count": 11,
   "metadata": {
    "ExecuteTime": {
     "end_time": "2020-06-03T01:07:54.755049Z",
     "start_time": "2020-06-03T01:07:54.747054Z"
    }
   },
   "outputs": [],
   "source": [
    "y_true = df_test.target.tolist()\n",
    "rmse = np.sqrt(mean_squared_error(y_true, y_pred))\n",
    "mae = mean_absolute_error(y_true, y_pred)\n",
    "knn_model_score = pd.DataFrame([rmse, mae]).T.rename(columns ={0:\"RMSE\", 1:\"MAE\"})"
   ]
  },
  {
   "cell_type": "code",
   "execution_count": 13,
   "metadata": {
    "ExecuteTime": {
     "end_time": "2020-06-03T01:07:55.594930Z",
     "start_time": "2020-06-03T01:07:55.589934Z"
    }
   },
   "outputs": [],
   "source": [
    "knn_model_score.rename(index={0: 'knn_model'},inplace=True)"
   ]
  },
  {
   "cell_type": "code",
   "execution_count": 14,
   "metadata": {
    "ExecuteTime": {
     "end_time": "2020-06-03T01:07:55.603926Z",
     "start_time": "2020-06-03T01:07:55.595930Z"
    }
   },
   "outputs": [
    {
     "data": {
      "text/html": [
       "<div>\n",
       "<style scoped>\n",
       "    .dataframe tbody tr th:only-of-type {\n",
       "        vertical-align: middle;\n",
       "    }\n",
       "\n",
       "    .dataframe tbody tr th {\n",
       "        vertical-align: top;\n",
       "    }\n",
       "\n",
       "    .dataframe thead th {\n",
       "        text-align: right;\n",
       "    }\n",
       "</style>\n",
       "<table border=\"1\" class=\"dataframe\">\n",
       "  <thead>\n",
       "    <tr style=\"text-align: right;\">\n",
       "      <th></th>\n",
       "      <th>RMSE</th>\n",
       "      <th>MAE</th>\n",
       "    </tr>\n",
       "  </thead>\n",
       "  <tbody>\n",
       "    <tr>\n",
       "      <th>knn_model</th>\n",
       "      <td>0.58425</td>\n",
       "      <td>0.341348</td>\n",
       "    </tr>\n",
       "  </tbody>\n",
       "</table>\n",
       "</div>"
      ],
      "text/plain": [
       "              RMSE       MAE\n",
       "knn_model  0.58425  0.341348"
      ]
     },
     "execution_count": 14,
     "metadata": {},
     "output_type": "execute_result"
    }
   ],
   "source": [
    "knn_model_score"
   ]
  },
  {
   "cell_type": "markdown",
   "metadata": {},
   "source": [
    "# Decision Tree"
   ]
  },
  {
   "cell_type": "code",
   "execution_count": 15,
   "metadata": {},
   "outputs": [],
   "source": [
    "#df_train = pd.read_csv(\"../data/output/after_encoding_train.csv\", index_col=0)\n",
    "#df_test = pd.read_csv(\"../data/output/after_encoding_test.csv\", index_col=0)\n",
    "\n",
    "df_train = pd.read_csv(\"C:/Users/adria/Desktop/in-vehicle-coupon-recommendation/data/output/after_encoding_train.csv\", index_col=0)\n",
    "df_test = pd.read_csv(\"C:/Users/adria/Desktop/in-vehicle-coupon-recommendation/data/output/after_encoding_test.csv\", index_col=0)"
   ]
  },
  {
   "cell_type": "code",
   "execution_count": 16,
   "metadata": {},
   "outputs": [],
   "source": [
    "X = [\"('never',).5\", \"('Kid(s)',)\", \"('Partner',)\", \"('gt8',)\", \"('2h',)\", \"('Restaurant(<20)',)\", \"('Legal',)\", \"('7AM',)\", \"('Single',)\", \"('Healthcare Practitioners & Technical',)\", \"('Sales & Related',)\", \"('Carry out & Take away',)\", \"('1~3',).2\", \"('1d',)\", \"('2PM',)\", \"('1~3',).1\", \"('Bar',)\", \"('below21',)\", \"('Installation Maintenance & Repair',)\", \"('10PM',)\", \"('1~3',).5\", \"('10AM',)\", \"('4~8',).5\", \"('Food Preparation & Serving Related',)\", \"('21',)\", \"('Sunny',)\", \"('less1',).5\", \"('Student',)\", \"('never',).1\", \"('No Urgent Place',)\", \"('1~3',)\", 'toCoupon_GEQ25min', \"('Friend(s)',)\", \"('Female',)\", \"('Less than $12500',)\"]"
   ]
  },
  {
   "cell_type": "code",
   "execution_count": 17,
   "metadata": {},
   "outputs": [],
   "source": [
    "model = pickle.load(open(\"C:/Users/adria/Desktop/in-vehicle-coupon-recommendation/models/dt.sav\", 'rb'))\n",
    "#model = pickle.load(open(\"../models/dt.sav\", 'rb'))\n",
    "\n",
    "y_pred = model.predict(df_test.loc[:,X].values)\n",
    "\n",
    "y_true = df_test.target.tolist()\n",
    "rmse = np.sqrt(mean_squared_error(y_true, y_pred))\n",
    "mae = mean_absolute_error(y_true, y_pred)\n",
    "dt_model_score = pd.DataFrame([rmse, mae]).T.rename(columns ={0:\"RMSE\", 1:\"MAE\"})"
   ]
  },
  {
   "cell_type": "code",
   "execution_count": 19,
   "metadata": {},
   "outputs": [
    {
     "data": {
      "text/html": [
       "<div>\n",
       "<style scoped>\n",
       "    .dataframe tbody tr th:only-of-type {\n",
       "        vertical-align: middle;\n",
       "    }\n",
       "\n",
       "    .dataframe tbody tr th {\n",
       "        vertical-align: top;\n",
       "    }\n",
       "\n",
       "    .dataframe thead th {\n",
       "        text-align: right;\n",
       "    }\n",
       "</style>\n",
       "<table border=\"1\" class=\"dataframe\">\n",
       "  <thead>\n",
       "    <tr style=\"text-align: right;\">\n",
       "      <th></th>\n",
       "      <th>RMSE</th>\n",
       "      <th>MAE</th>\n",
       "    </tr>\n",
       "  </thead>\n",
       "  <tbody>\n",
       "    <tr>\n",
       "      <th>dt_model</th>\n",
       "      <td>0.566437</td>\n",
       "      <td>0.320851</td>\n",
       "    </tr>\n",
       "  </tbody>\n",
       "</table>\n",
       "</div>"
      ],
      "text/plain": [
       "              RMSE       MAE\n",
       "dt_model  0.566437  0.320851"
      ]
     },
     "execution_count": 19,
     "metadata": {},
     "output_type": "execute_result"
    }
   ],
   "source": [
    "dt_model_score.rename(index={0: 'dt_model'},inplace=True)\n",
    "\n",
    "dt_model_score"
   ]
  },
  {
   "cell_type": "markdown",
   "metadata": {},
   "source": [
    "# Random Forest"
   ]
  },
  {
   "cell_type": "code",
   "execution_count": 20,
   "metadata": {},
   "outputs": [],
   "source": [
    "#df_train = pd.read_csv(\"../data/output/after_encoding_train.csv\", index_col=0)\n",
    "#df_test = pd.read_csv(\"../data/output/after_encoding_test.csv\", index_col=0)\n",
    "\n",
    "df_train = pd.read_csv(\"C:/Users/adria/Desktop/in-vehicle-coupon-recommendation/data/output/after_encoding_train.csv\", index_col=0)\n",
    "df_test = pd.read_csv(\"C:/Users/adria/Desktop/in-vehicle-coupon-recommendation/data/output/after_encoding_test.csv\", index_col=0)"
   ]
  },
  {
   "cell_type": "code",
   "execution_count": 22,
   "metadata": {},
   "outputs": [
    {
     "data": {
      "text/html": [
       "<div>\n",
       "<style scoped>\n",
       "    .dataframe tbody tr th:only-of-type {\n",
       "        vertical-align: middle;\n",
       "    }\n",
       "\n",
       "    .dataframe tbody tr th {\n",
       "        vertical-align: top;\n",
       "    }\n",
       "\n",
       "    .dataframe thead th {\n",
       "        text-align: right;\n",
       "    }\n",
       "</style>\n",
       "<table border=\"1\" class=\"dataframe\">\n",
       "  <thead>\n",
       "    <tr style=\"text-align: right;\">\n",
       "      <th></th>\n",
       "      <th>RMSE</th>\n",
       "      <th>MAE</th>\n",
       "    </tr>\n",
       "  </thead>\n",
       "  <tbody>\n",
       "    <tr>\n",
       "      <th>rf_model</th>\n",
       "      <td>0.526027</td>\n",
       "      <td>0.276705</td>\n",
       "    </tr>\n",
       "  </tbody>\n",
       "</table>\n",
       "</div>"
      ],
      "text/plain": [
       "              RMSE       MAE\n",
       "rf_model  0.526027  0.276705"
      ]
     },
     "execution_count": 22,
     "metadata": {},
     "output_type": "execute_result"
    }
   ],
   "source": [
    "X = [\"('never',).5\", \"('Kid(s)',)\", \"('Partner',)\", \"('gt8',)\", \"('2h',)\", \"('Restaurant(<20)',)\", \"('Legal',)\", \"('7AM',)\", \"('Single',)\", \"('Healthcare Practitioners & Technical',)\", \"('Sales & Related',)\", \"('Carry out & Take away',)\", \"('1~3',).2\", \"('1d',)\", \"('2PM',)\", \"('1~3',).1\", \"('Bar',)\", \"('below21',)\", \"('Installation Maintenance & Repair',)\", \"('10PM',)\", \"('1~3',).5\", \"('10AM',)\", \"('4~8',).5\", \"('Food Preparation & Serving Related',)\", \"('21',)\", \"('Sunny',)\", \"('less1',).5\", \"('Student',)\", \"('never',).1\", \"('No Urgent Place',)\", \"('1~3',)\", 'toCoupon_GEQ25min', \"('Friend(s)',)\", \"('Female',)\", \"('Less than $12500',)\", \"('Architecture & Engineering',)\", \"('Computer & Mathematical',)\", \"('Married partner',)\", \"('Personal Care & Service',)\", \"('Protective Service',)\", \"('Divorced',)\", \"('Coffee House',)\", \"('$25000 - $37499',)\", \"('gt8',).2\", \"('Business & Financial',)\", \"('Transportation & Material Moving',)\", 'to_Coupon', \"('Snowy',)\", \"('Some college - no degree',)\", \"('less1',).1\"]\n",
    "model = pickle.load(open(\"C:/Users/adria/Desktop/in-vehicle-coupon-recommendation/models/rf.sav\", 'rb'))\n",
    "#model = pickle.load(open(\"../models/rf.sav\", 'rb'))\n",
    "y_pred = model.predict(df_test.loc[:,X].values)\n",
    "\n",
    "y_true = df_test.target.tolist()\n",
    "rmse = np.sqrt(mean_squared_error(y_true, y_pred))\n",
    "mae = mean_absolute_error(y_true, y_pred)\n",
    "rf_model_score = pd.DataFrame([rmse, mae]).T.rename(columns ={0:\"RMSE\", 1:\"MAE\"})\n",
    "\n",
    "rf_model_score.rename(index={0: 'rf_model'},inplace=True)\n",
    "\n",
    "rf_model_score"
   ]
  },
  {
   "cell_type": "markdown",
   "metadata": {},
   "source": [
    "# Final comparison "
   ]
  },
  {
   "cell_type": "code",
   "execution_count": 23,
   "metadata": {
    "ExecuteTime": {
     "end_time": "2020-06-03T01:07:56.569109Z",
     "start_time": "2020-06-03T01:07:56.563107Z"
    }
   },
   "outputs": [],
   "source": [
    "final_comparison = pd.concat([knn_model_score, dt_model_score, rf_model_score])"
   ]
  },
  {
   "cell_type": "code",
   "execution_count": 24,
   "metadata": {
    "ExecuteTime": {
     "end_time": "2020-06-03T01:07:56.581108Z",
     "start_time": "2020-06-03T01:07:56.571113Z"
    }
   },
   "outputs": [
    {
     "data": {
      "text/html": [
       "<div>\n",
       "<style scoped>\n",
       "    .dataframe tbody tr th:only-of-type {\n",
       "        vertical-align: middle;\n",
       "    }\n",
       "\n",
       "    .dataframe tbody tr th {\n",
       "        vertical-align: top;\n",
       "    }\n",
       "\n",
       "    .dataframe thead th {\n",
       "        text-align: right;\n",
       "    }\n",
       "</style>\n",
       "<table border=\"1\" class=\"dataframe\">\n",
       "  <thead>\n",
       "    <tr style=\"text-align: right;\">\n",
       "      <th></th>\n",
       "      <th>RMSE</th>\n",
       "      <th>MAE</th>\n",
       "    </tr>\n",
       "  </thead>\n",
       "  <tbody>\n",
       "    <tr>\n",
       "      <th>rf_model</th>\n",
       "      <td>0.526027</td>\n",
       "      <td>0.276705</td>\n",
       "    </tr>\n",
       "    <tr>\n",
       "      <th>dt_model</th>\n",
       "      <td>0.566437</td>\n",
       "      <td>0.320851</td>\n",
       "    </tr>\n",
       "    <tr>\n",
       "      <th>knn_model</th>\n",
       "      <td>0.584250</td>\n",
       "      <td>0.341348</td>\n",
       "    </tr>\n",
       "  </tbody>\n",
       "</table>\n",
       "</div>"
      ],
      "text/plain": [
       "               RMSE       MAE\n",
       "rf_model   0.526027  0.276705\n",
       "dt_model   0.566437  0.320851\n",
       "knn_model  0.584250  0.341348"
      ]
     },
     "execution_count": 24,
     "metadata": {},
     "output_type": "execute_result"
    }
   ],
   "source": [
    "final_comparison.sort_values(\"RMSE\")"
   ]
  },
  {
   "cell_type": "code",
   "execution_count": 25,
   "metadata": {
    "ExecuteTime": {
     "end_time": "2020-06-03T01:07:56.589104Z",
     "start_time": "2020-06-03T01:07:56.583100Z"
    }
   },
   "outputs": [],
   "source": [
    "final_comparison.rename({\"knn_model\":\"KNN\", \"dt_model\": \"Decision Tree\", \"rf_model\" : \"Random Forest\"},inplace=True)"
   ]
  },
  {
   "cell_type": "code",
   "execution_count": 26,
   "metadata": {
    "ExecuteTime": {
     "end_time": "2020-06-03T01:07:56.596087Z",
     "start_time": "2020-06-03T01:07:56.590089Z"
    }
   },
   "outputs": [],
   "source": [
    "final_comparison = final_comparison.round(6)"
   ]
  },
  {
   "cell_type": "code",
   "execution_count": 27,
   "metadata": {
    "ExecuteTime": {
     "end_time": "2020-06-03T01:07:56.607080Z",
     "start_time": "2020-06-03T01:07:56.598086Z"
    }
   },
   "outputs": [
    {
     "data": {
      "text/html": [
       "<div>\n",
       "<style scoped>\n",
       "    .dataframe tbody tr th:only-of-type {\n",
       "        vertical-align: middle;\n",
       "    }\n",
       "\n",
       "    .dataframe tbody tr th {\n",
       "        vertical-align: top;\n",
       "    }\n",
       "\n",
       "    .dataframe thead th {\n",
       "        text-align: right;\n",
       "    }\n",
       "</style>\n",
       "<table border=\"1\" class=\"dataframe\">\n",
       "  <thead>\n",
       "    <tr style=\"text-align: right;\">\n",
       "      <th></th>\n",
       "      <th>RMSE</th>\n",
       "      <th>MAE</th>\n",
       "    </tr>\n",
       "  </thead>\n",
       "  <tbody>\n",
       "    <tr>\n",
       "      <th>KNN</th>\n",
       "      <td>0.584250</td>\n",
       "      <td>0.341348</td>\n",
       "    </tr>\n",
       "    <tr>\n",
       "      <th>Decision Tree</th>\n",
       "      <td>0.566437</td>\n",
       "      <td>0.320851</td>\n",
       "    </tr>\n",
       "    <tr>\n",
       "      <th>Random Forest</th>\n",
       "      <td>0.526027</td>\n",
       "      <td>0.276705</td>\n",
       "    </tr>\n",
       "  </tbody>\n",
       "</table>\n",
       "</div>"
      ],
      "text/plain": [
       "                   RMSE       MAE\n",
       "KNN            0.584250  0.341348\n",
       "Decision Tree  0.566437  0.320851\n",
       "Random Forest  0.526027  0.276705"
      ]
     },
     "execution_count": 27,
     "metadata": {},
     "output_type": "execute_result"
    }
   ],
   "source": [
    "final_comparison"
   ]
  },
  {
   "cell_type": "code",
   "execution_count": 31,
   "metadata": {},
   "outputs": [
    {
     "data": {
      "image/png": "[encoded data removed]",
      "text/plain": [
       "<Figure size 1500x700 with 1 Axes>"
      ]
     },
     "metadata": {},
     "output_type": "display_data"
    }
   ],
   "source": [
    "pastel_palette = sns.color_palette(\"pastel\")\n",
    "\n",
    "plt.style.use('ggplot')\n",
    "sns.set_palette(pastel_palette)\n",
    "ax = final_comparison.plot(kind='bar', figsize=(15, 7), title=\"Final comparison of the models on TEST set\")\n",
    "ax.legend(fontsize=13)\n",
    "plt.tick_params(\n",
    "    axis='x',          # changes apply to the x-axis\n",
    "    which='both',      # both major and minor ticks are affected\n",
    "    bottom=True,       # ticks along the bottom edge are off\n",
    "    top=False,         # ticks along the top edge are off\n",
    "    labelbottom=True,  # labels along the bottom edge are off\n",
    ")\n",
    "ax.set_xticklabels(final_comparison.index, rotation=0, fontsize=12)\n",
    "ax.set_xlabel(\"MODELS\", fontsize=13)\n",
    "\n",
    "plt.show()"
   ]
  },
  {
   "cell_type": "markdown",
   "metadata": {},
   "source": [
    "And the winner is: **Random Forest**, but we see that KNN and Decision Tree were very close."
   ]
  }
 ],
 "metadata": {
  "kernelspec": {
   "display_name": "Python 3 (ipykernel)",
   "language": "python",
   "name": "python3"
  },
  "language_info": {
   "codemirror_mode": {
    "name": "ipython",
    "version": 3
   },
   "file_extension": ".py",
   "mimetype": "text/x-python",
   "name": "python",
   "nbconvert_exporter": "python",
   "pygments_lexer": "ipython3",
   "version": "3.11.5"
  },
  "vscode": {
   "interpreter": {
    "hash": "bff0f7c864331389fa2ce0c5d534e26d0bfdbc8f9c927a5938dc8a191fde6d96"
   }
  }
 },
 "nbformat": 4,
 "nbformat_minor": 4
}
