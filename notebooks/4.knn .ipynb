{
 "cells": [
  {
   "cell_type": "markdown",
   "metadata": {},
   "source": [
    "# KNN "
   ]
  },
  {
   "cell_type": "code",
   "execution_count": 1,
   "metadata": {
    "ExecuteTime": {
     "end_time": "2020-06-03T00:41:01.482511Z",
     "start_time": "2020-06-03T00:41:00.334768Z"
    }
   },
   "outputs": [],
   "source": [
    "#load dependencies\n",
    "import pandas as pd\n",
    "import numpy as np\n",
    "import matplotlib.pyplot as plt\n",
    "import seaborn as sns\n",
    "from sklearn.feature_selection import RFECV\n",
    "from sklearn.inspection import permutation_importance\n",
    "from sklearn.model_selection import KFold\n",
    "from sklearn.metrics import mean_squared_error\n",
    "from sklearn.metrics import make_scorer\n",
    "from sklearn.feature_selection import SequentialFeatureSelector as SFS\n",
    "from sklearn.neighbors import KNeighborsClassifier\n",
    "from sklearn.preprocessing import MinMaxScaler\n",
    "from sklearn.model_selection import cross_validate\n",
    "from sklearn.model_selection import GridSearchCV\n",
    "import sklearn_relief as sr\n",
    "import pickle\n",
    "\n",
    "sns.set_style(\"whitegrid\")\n",
    "\n",
    "#set Pandas display option \n",
    "pd.set_option('display.max_columns', None)\n",
    "pd.set_option(\"display.max_rows\", 500)\n",
    "\n",
    "#set figure size\n",
    "plt.rcParams['figure.figsize'] = (8, 6)\n",
    "\n",
    "#ensure that code is reproducible by setting random seed\n",
    "np.random.seed(1916) "
   ]
  },
  {
   "cell_type": "code",
   "execution_count": 2,
   "metadata": {
    "ExecuteTime": {
     "end_time": "2020-06-03T00:41:01.571464Z",
     "start_time": "2020-06-03T00:41:01.484496Z"
    }
   },
   "outputs": [],
   "source": [
    "#project setup\n",
    "input_data_path = \"../data/input\"\n",
    "output_data_path = \"../data/output\"\n",
    "\n",
    "#load data\n",
    "df = pd.read_csv(f\"{output_data_path}/after_encoding_train.csv\", index_col=0)\n",
    "df_test = pd.read_csv(f\"{output_data_path}/after_encoding_test.csv\", index_col=0)\n",
    "\n",
    "fr = pd.read_csv(f\"{output_data_path}/feature_ranking.csv\", index_col=0)"
   ]
  },
  {
   "cell_type": "markdown",
   "metadata": {},
   "source": [
    "We omit standardization because we have encoded categorical variables"
   ]
  },
  {
   "cell_type": "markdown",
   "metadata": {},
   "source": [
    "#### Searching for \"good enough\" model to feature selection"
   ]
  },
  {
   "cell_type": "markdown",
   "metadata": {},
   "source": [
    "Mutual Information"
   ]
  },
  {
   "cell_type": "code",
   "execution_count": 3,
   "metadata": {
    "ExecuteTime": {
     "end_time": "2020-06-03T00:41:12.566837Z",
     "start_time": "2020-06-03T00:41:12.561837Z"
    }
   },
   "outputs": [],
   "source": [
    "var = fr.mi_score.sort_values(ascending=False).index.tolist()[0:10]"
   ]
  },
  {
   "cell_type": "code",
   "execution_count": 4,
   "metadata": {
    "ExecuteTime": {
     "end_time": "2020-06-03T00:41:12.832677Z",
     "start_time": "2020-06-03T00:41:12.829690Z"
    }
   },
   "outputs": [
    {
     "name": "stdout",
     "output_type": "stream",
     "text": [
      "[\"('never',).5\", \"('Kid(s)',)\", \"('Partner',)\", \"('gt8',)\", \"('2h',)\", \"('Restaurant(<20)',)\", \"('Legal',)\", \"('7AM',)\", \"('Single',)\", \"('Healthcare Practitioners & Technical',)\"]\n"
     ]
    }
   ],
   "source": [
    "print(var)"
   ]
  },
  {
   "cell_type": "code",
   "execution_count": 5,
   "metadata": {
    "ExecuteTime": {
     "end_time": "2020-06-03T00:41:13.022677Z",
     "start_time": "2020-06-03T00:41:13.016691Z"
    }
   },
   "outputs": [
    {
     "data": {
      "text/plain": [
       "100.7323185477233"
      ]
     },
     "execution_count": 5,
     "metadata": {},
     "output_type": "execute_result"
    }
   ],
   "source": [
    "df.shape[0] ** (0.5)"
   ]
  },
  {
   "cell_type": "code",
   "execution_count": 6,
   "metadata": {
    "ExecuteTime": {
     "end_time": "2020-06-03T00:41:13.205680Z",
     "start_time": "2020-06-03T00:41:13.201686Z"
    }
   },
   "outputs": [],
   "source": [
    "param = {\n",
    "    \"n_neighbors\": [5, 7, 10, 12, 15, 25, 40, 50, 100],\n",
    "    \"weights\": [\"uniform\", \"distance\"],\n",
    "    \"metric\": [\"minkowski\", \"manhattan\", \"chebyshev\"],\n",
    "    \"p\": [1, 2],\n",
    "}"
   ]
  },
  {
   "cell_type": "code",
   "execution_count": 7,
   "metadata": {
    "ExecuteTime": {
     "end_time": "2020-06-03T00:41:13.384053Z",
     "start_time": "2020-06-03T00:41:13.381051Z"
    }
   },
   "outputs": [],
   "source": [
    "mse = make_scorer(mean_squared_error, greater_is_better=False)"
   ]
  },
  {
   "cell_type": "code",
   "execution_count": 9,
   "metadata": {
    "ExecuteTime": {
     "end_time": "2020-06-03T00:41:28.787150Z",
     "start_time": "2020-06-03T00:41:13.740458Z"
    }
   },
   "outputs": [
    {
     "data": {
      "text/html": [
       "<style>#sk-container-id-1 {color: black;}#sk-container-id-1 pre{padding: 0;}#sk-container-id-1 div.sk-toggleable {background-color: white;}#sk-container-id-1 label.sk-toggleable__label {cursor: pointer;display: block;width: 100%;margin-bottom: 0;padding: 0.3em;box-sizing: border-box;text-align: center;}#sk-container-id-1 label.sk-toggleable__label-arrow:before {content: \"▸\";float: left;margin-right: 0.25em;color: #696969;}#sk-container-id-1 label.sk-toggleable__label-arrow:hover:before {color: black;}#sk-container-id-1 div.sk-estimator:hover label.sk-toggleable__label-arrow:before {color: black;}#sk-container-id-1 div.sk-toggleable__content {max-height: 0;max-width: 0;overflow: hidden;text-align: left;background-color: #f0f8ff;}#sk-container-id-1 div.sk-toggleable__content pre {margin: 0.2em;color: black;border-radius: 0.25em;background-color: #f0f8ff;}#sk-container-id-1 input.sk-toggleable__control:checked~div.sk-toggleable__content {max-height: 200px;max-width: 100%;overflow: auto;}#sk-container-id-1 input.sk-toggleable__control:checked~label.sk-toggleable__label-arrow:before {content: \"▾\";}#sk-container-id-1 div.sk-estimator input.sk-toggleable__control:checked~label.sk-toggleable__label {background-color: #d4ebff;}#sk-container-id-1 div.sk-label input.sk-toggleable__control:checked~label.sk-toggleable__label {background-color: #d4ebff;}#sk-container-id-1 input.sk-hidden--visually {border: 0;clip: rect(1px 1px 1px 1px);clip: rect(1px, 1px, 1px, 1px);height: 1px;margin: -1px;overflow: hidden;padding: 0;position: absolute;width: 1px;}#sk-container-id-1 div.sk-estimator {font-family: monospace;background-color: #f0f8ff;border: 1px dotted black;border-radius: 0.25em;box-sizing: border-box;margin-bottom: 0.5em;}#sk-container-id-1 div.sk-estimator:hover {background-color: #d4ebff;}#sk-container-id-1 div.sk-parallel-item::after {content: \"\";width: 100%;border-bottom: 1px solid gray;flex-grow: 1;}#sk-container-id-1 div.sk-label:hover label.sk-toggleable__label {background-color: #d4ebff;}#sk-container-id-1 div.sk-serial::before {content: \"\";position: absolute;border-left: 1px solid gray;box-sizing: border-box;top: 0;bottom: 0;left: 50%;z-index: 0;}#sk-container-id-1 div.sk-serial {display: flex;flex-direction: column;align-items: center;background-color: white;padding-right: 0.2em;padding-left: 0.2em;position: relative;}#sk-container-id-1 div.sk-item {position: relative;z-index: 1;}#sk-container-id-1 div.sk-parallel {display: flex;align-items: stretch;justify-content: center;background-color: white;position: relative;}#sk-container-id-1 div.sk-item::before, #sk-container-id-1 div.sk-parallel-item::before {content: \"\";position: absolute;border-left: 1px solid gray;box-sizing: border-box;top: 0;bottom: 0;left: 50%;z-index: -1;}#sk-container-id-1 div.sk-parallel-item {display: flex;flex-direction: column;z-index: 1;position: relative;background-color: white;}#sk-container-id-1 div.sk-parallel-item:first-child::after {align-self: flex-end;width: 50%;}#sk-container-id-1 div.sk-parallel-item:last-child::after {align-self: flex-start;width: 50%;}#sk-container-id-1 div.sk-parallel-item:only-child::after {width: 0;}#sk-container-id-1 div.sk-dashed-wrapped {border: 1px dashed gray;margin: 0 0.4em 0.5em 0.4em;box-sizing: border-box;padding-bottom: 0.4em;background-color: white;}#sk-container-id-1 div.sk-label label {font-family: monospace;font-weight: bold;display: inline-block;line-height: 1.2em;}#sk-container-id-1 div.sk-label-container {text-align: center;}#sk-container-id-1 div.sk-container {/* jupyter's `normalize.less` sets `[hidden] { display: none; }` but bootstrap.min.css set `[hidden] { display: none !important; }` so we also need the `!important` here to be able to override the default hidden behavior on the sphinx rendered scikit-learn.org. See: https://github.com/scikit-learn/scikit-learn/issues/21755 */display: inline-block !important;position: relative;}#sk-container-id-1 div.sk-text-repr-fallback {display: none;}</style><div id=\"sk-container-id-1\" class=\"sk-top-container\"><div class=\"sk-text-repr-fallback\"><pre>GridSearchCV(cv=2, estimator=KNeighborsClassifier(), n_jobs=-1,\n",
       "             param_grid={&#x27;metric&#x27;: [&#x27;minkowski&#x27;, &#x27;manhattan&#x27;, &#x27;chebyshev&#x27;],\n",
       "                         &#x27;n_neighbors&#x27;: [5, 7, 10, 12, 15, 25, 40, 50, 100],\n",
       "                         &#x27;p&#x27;: [1, 2], &#x27;weights&#x27;: [&#x27;uniform&#x27;, &#x27;distance&#x27;]},\n",
       "             return_train_score=True,\n",
       "             scoring=make_scorer(mean_squared_error, greater_is_better=False))</pre><b>In a Jupyter environment, please rerun this cell to show the HTML representation or trust the notebook. <br />On GitHub, the HTML representation is unable to render, please try loading this page with nbviewer.org.</b></div><div class=\"sk-container\" hidden><div class=\"sk-item sk-dashed-wrapped\"><div class=\"sk-label-container\"><div class=\"sk-label sk-toggleable\"><input class=\"sk-toggleable__control sk-hidden--visually\" id=\"sk-estimator-id-1\" type=\"checkbox\" ><label for=\"sk-estimator-id-1\" class=\"sk-toggleable__label sk-toggleable__label-arrow\">GridSearchCV</label><div class=\"sk-toggleable__content\"><pre>GridSearchCV(cv=2, estimator=KNeighborsClassifier(), n_jobs=-1,\n",
       "             param_grid={&#x27;metric&#x27;: [&#x27;minkowski&#x27;, &#x27;manhattan&#x27;, &#x27;chebyshev&#x27;],\n",
       "                         &#x27;n_neighbors&#x27;: [5, 7, 10, 12, 15, 25, 40, 50, 100],\n",
       "                         &#x27;p&#x27;: [1, 2], &#x27;weights&#x27;: [&#x27;uniform&#x27;, &#x27;distance&#x27;]},\n",
       "             return_train_score=True,\n",
       "             scoring=make_scorer(mean_squared_error, greater_is_better=False))</pre></div></div></div><div class=\"sk-parallel\"><div class=\"sk-parallel-item\"><div class=\"sk-item\"><div class=\"sk-label-container\"><div class=\"sk-label sk-toggleable\"><input class=\"sk-toggleable__control sk-hidden--visually\" id=\"sk-estimator-id-2\" type=\"checkbox\" ><label for=\"sk-estimator-id-2\" class=\"sk-toggleable__label sk-toggleable__label-arrow\">estimator: KNeighborsClassifier</label><div class=\"sk-toggleable__content\"><pre>KNeighborsClassifier()</pre></div></div></div><div class=\"sk-serial\"><div class=\"sk-item\"><div class=\"sk-estimator sk-toggleable\"><input class=\"sk-toggleable__control sk-hidden--visually\" id=\"sk-estimator-id-3\" type=\"checkbox\" ><label for=\"sk-estimator-id-3\" class=\"sk-toggleable__label sk-toggleable__label-arrow\">KNeighborsClassifier</label><div class=\"sk-toggleable__content\"><pre>KNeighborsClassifier()</pre></div></div></div></div></div></div></div></div></div></div>"
      ],
      "text/plain": [
       "GridSearchCV(cv=2, estimator=KNeighborsClassifier(), n_jobs=-1,\n",
       "             param_grid={'metric': ['minkowski', 'manhattan', 'chebyshev'],\n",
       "                         'n_neighbors': [5, 7, 10, 12, 15, 25, 40, 50, 100],\n",
       "                         'p': [1, 2], 'weights': ['uniform', 'distance']},\n",
       "             return_train_score=True,\n",
       "             scoring=make_scorer(mean_squared_error, greater_is_better=False))"
      ]
     },
     "execution_count": 9,
     "metadata": {},
     "output_type": "execute_result"
    }
   ],
   "source": [
    "model = KNeighborsClassifier()\n",
    "grid_CV = GridSearchCV(\n",
    "    model, param, cv=2, scoring=mse, return_train_score=True, n_jobs=-1\n",
    ")\n",
    "grid_CV.fit(df.loc[:, var].values, df.loc[:, \"target\"].values.ravel())"
   ]
  },
  {
   "cell_type": "code",
   "execution_count": 10,
   "metadata": {
    "ExecuteTime": {
     "end_time": "2020-06-03T00:41:28.797030Z",
     "start_time": "2020-06-03T00:41:28.790036Z"
    }
   },
   "outputs": [
    {
     "data": {
      "text/plain": [
       "{'metric': 'minkowski', 'n_neighbors': 100, 'p': 1, 'weights': 'distance'}"
      ]
     },
     "execution_count": 10,
     "metadata": {},
     "output_type": "execute_result"
    }
   ],
   "source": [
    "grid_CV.best_params_"
   ]
  },
  {
   "cell_type": "code",
   "execution_count": 11,
   "metadata": {
    "ExecuteTime": {
     "end_time": "2020-06-03T00:41:28.849001Z",
     "start_time": "2020-06-03T00:41:28.799029Z"
    }
   },
   "outputs": [
    {
     "data": {
      "text/plain": [
       "{'mean_fit_time': array([0.00781453, 0.0078156 , 0.01562285, 0.01562464, 0.0107435 ,\n",
       "        0.00781167, 0.01650631, 0.01446378, 0.0136174 , 0.00781238,\n",
       "        0.01562607, 0.01562703, 0.01055586, 0.01562738, 0.01468635,\n",
       "        0.00289977, 0.01561201, 0.00781453, 0.01328504, 0.01638758,\n",
       "        0.0114547 , 0.01529574, 0.01562595, 0.01562595, 0.00781286,\n",
       "        0.01562512, 0.01587808, 0.01615703, 0.01854789, 0.01464629,\n",
       "        0.03071797, 0.01495755, 0.01420009, 0.0193094 , 0.01537311,\n",
       "        0.01562488, 0.0129801 , 0.01507008, 0.01592791, 0.01394904,\n",
       "        0.03044498, 0.01446497, 0.01923227, 0.01562476, 0.01283097,\n",
       "        0.01527023, 0.00781679, 0.02194619, 0.01556695, 0.01562464,\n",
       "        0.00781226, 0.01641965, 0.01877975, 0.01562548, 0.01171076,\n",
       "        0.01562834, 0.03165269, 0.02288103, 0.01562321, 0.01348042,\n",
       "        0.01507664, 0.02338016, 0.01988935, 0.01562858, 0.01562655,\n",
       "        0.01562595, 0.0176363 , 0.0148586 , 0.01403403, 0.02322102,\n",
       "        0.01562655, 0.01727319, 0.01563132, 0.01681924, 0.01587427,\n",
       "        0.01562643, 0.01562691, 0.00781381, 0.01837933, 0.01562548,\n",
       "        0.01516223, 0.01730156, 0.01602042, 0.02132201, 0.01010513,\n",
       "        0.01668751, 0.01775777, 0.01732457, 0.01684809, 0.0223192 ,\n",
       "        0.01562536, 0.0156256 , 0.01562715, 0.015625  , 0.01647377,\n",
       "        0.00945532, 0.01395214, 0.0174588 , 0.01454902, 0.01563048,\n",
       "        0.01429486, 0.01590359, 0.01562619, 0.0207113 , 0.00893533,\n",
       "        0.02091587, 0.01562667, 0.01556742]),\n",
       " 'std_fit_time': array([7.81452656e-03, 7.81559944e-03, 2.38418579e-07, 1.54972076e-06,\n",
       "        3.20255756e-03, 7.81166553e-03, 3.93748283e-04, 1.16074085e-03,\n",
       "        6.19292259e-04, 7.81238079e-03, 1.54972076e-06, 5.96046448e-07,\n",
       "        5.07128239e-03, 1.56273842e-02, 9.39846039e-04, 4.79340553e-04,\n",
       "        7.94291496e-04, 7.81452656e-03, 2.65240669e-04, 1.10828876e-03,\n",
       "        4.16958332e-03, 3.30686569e-04, 4.76837158e-07, 0.00000000e+00,\n",
       "        7.81285763e-03, 5.96046448e-07, 2.52127647e-04, 5.37276268e-04,\n",
       "        3.27646732e-03, 9.78946686e-04, 1.83192492e-02, 8.08358192e-04,\n",
       "        1.42633915e-03, 6.27148151e-03, 2.51412392e-04, 1.07288361e-06,\n",
       "        3.82542610e-04, 5.53488731e-04, 3.01718712e-04, 7.10606575e-04,\n",
       "        1.48154497e-02, 1.17218494e-03, 4.66203690e-03, 0.00000000e+00,\n",
       "        2.83861160e-03, 1.11198425e-03, 7.81679153e-03, 8.87823105e-03,\n",
       "        5.90085983e-05, 1.19209290e-07, 7.81226158e-03, 1.64196491e-02,\n",
       "        3.77011299e-03, 2.38418579e-07, 3.52966785e-03, 4.76837158e-07,\n",
       "        1.52268410e-02, 8.37016106e-03, 1.78813934e-06, 2.14576721e-03,\n",
       "        5.51223755e-04, 7.87198544e-03, 5.21183014e-03, 2.38418579e-06,\n",
       "        5.96046448e-07, 1.19209290e-06, 3.38864326e-03, 6.48617744e-04,\n",
       "        1.37567520e-04, 2.34627724e-03, 2.50339508e-06, 3.27444077e-03,\n",
       "        7.51018524e-06, 3.82328033e-03, 2.36392021e-04, 4.76837158e-07,\n",
       "        4.76837158e-07, 7.81381130e-03, 2.75290012e-03, 4.76837158e-07,\n",
       "        1.16539001e-03, 3.30328941e-03, 2.75373459e-05, 5.69748878e-03,\n",
       "        5.51986694e-03, 3.12685966e-04, 1.32032633e-02, 1.70600414e-03,\n",
       "        2.74658203e-04, 6.63387775e-03, 1.78813934e-06, 1.19209290e-07,\n",
       "        1.56271458e-02, 1.19209290e-06, 3.19123268e-03, 4.31120396e-03,\n",
       "        1.36530399e-03, 4.45544720e-03, 1.07884407e-03, 3.57627869e-06,\n",
       "        1.11961365e-03, 2.70247459e-04, 7.15255737e-07, 6.56855106e-03,\n",
       "        6.50370121e-03, 5.28252125e-03, 9.53674316e-07, 5.75780869e-05]),\n",
       " 'mean_score_time': array([1.03706086, 0.52225137, 0.95741808, 0.58795488, 0.99701369,\n",
       "        0.54275167, 0.9404757 , 0.46003759, 1.0088377 , 0.4848026 ,\n",
       "        0.97675204, 0.54153669, 0.93744445, 0.53274667, 0.9519558 ,\n",
       "        0.5395112 , 1.16976607, 0.55859184, 1.00505519, 0.48572874,\n",
       "        0.97645366, 0.56349874, 1.23838067, 0.62901342, 0.99947464,\n",
       "        0.60238647, 1.11678469, 0.71560681, 1.08928359, 0.66377187,\n",
       "        1.07972622, 0.65410411, 1.20943046, 0.84454393, 1.22529173,\n",
       "        0.89263642, 1.04508054, 0.50631118, 0.97697783, 0.53655124,\n",
       "        1.07389522, 0.58296549, 0.96852052, 0.52748346, 0.9497273 ,\n",
       "        0.66100144, 0.99882019, 0.52877295, 0.89695787, 0.52499223,\n",
       "        1.0036552 , 0.602543  , 1.04926062, 0.59437096, 1.07663822,\n",
       "        0.69969618, 1.14352226, 0.63452458, 1.01257575, 0.6042738 ,\n",
       "        1.22655106, 0.70115292, 1.06045556, 0.6337986 , 1.1672945 ,\n",
       "        0.74591255, 1.19896364, 0.69518006, 1.26923823, 0.90989697,\n",
       "        1.39684939, 0.8914274 , 1.38269651, 0.81543374, 1.25440049,\n",
       "        0.8026247 , 1.21570289, 0.80405521, 1.30676961, 0.82681274,\n",
       "        1.34097946, 1.03450513, 1.15239704, 0.76728034, 1.42537022,\n",
       "        0.80845416, 1.18970823, 0.88497043, 1.3331176 , 0.83571625,\n",
       "        1.20459712, 0.76369274, 1.46965325, 0.8458693 , 1.23374724,\n",
       "        0.90629649, 1.40329802, 0.93822968, 1.41916156, 0.99658799,\n",
       "        1.44506693, 1.02329862, 1.71742475, 1.07660699, 1.59688723,\n",
       "        1.21565664, 1.5384841 , 1.16494012]),\n",
       " 'std_score_time': array([2.85996199e-02, 1.56278610e-02, 5.54144382e-03, 2.39074230e-03,\n",
       "        1.85605288e-02, 1.64777040e-02, 6.92009926e-03, 7.95722008e-04,\n",
       "        6.14833832e-03, 1.56260729e-02, 8.23202133e-02, 6.10302687e-02,\n",
       "        7.12871552e-04, 8.01789761e-03, 6.64262772e-02, 1.09243393e-02,\n",
       "        6.96265697e-03, 1.82595253e-02, 1.91247463e-02, 4.92072105e-03,\n",
       "        1.12205744e-02, 6.13212585e-03, 6.37259483e-02, 3.75994444e-02,\n",
       "        1.78563595e-03, 7.81226158e-03, 4.71309423e-02, 6.76423311e-02,\n",
       "        4.60222960e-02, 1.38785839e-02, 1.01686001e-01, 3.34001780e-02,\n",
       "        4.44817543e-03, 4.51221466e-02, 9.02302265e-02, 1.01894498e-01,\n",
       "        9.75781679e-02, 5.91206551e-03, 4.15968895e-03, 3.22163105e-02,\n",
       "        1.42064810e-01, 2.65401602e-02, 9.43768024e-03, 2.34386921e-02,\n",
       "        3.60376835e-02, 1.75263882e-02, 5.46880960e-02, 1.15844011e-02,\n",
       "        2.34475136e-02, 2.03719139e-02, 8.58018398e-02, 3.26734781e-02,\n",
       "        2.48630047e-02, 3.90652418e-02, 1.32219315e-01, 1.34137034e-01,\n",
       "        6.31308556e-02, 4.08179760e-02, 2.29440928e-02, 3.55176926e-02,\n",
       "        3.84895802e-02, 4.85035181e-02, 4.15651798e-02, 7.15255737e-07,\n",
       "        1.16245031e-01, 8.08913708e-02, 1.02403402e-01, 9.62376595e-04,\n",
       "        1.13258362e-02, 6.52734041e-02, 1.83012486e-02, 2.87927389e-02,\n",
       "        1.24057889e-01, 3.02410126e-03, 1.56948566e-02, 3.71003151e-03,\n",
       "        4.70217466e-02, 8.24580193e-02, 8.48538876e-02, 2.41222382e-02,\n",
       "        2.16358900e-02, 5.88626862e-02, 1.36148930e-03, 4.02634144e-02,\n",
       "        7.75933266e-03, 1.70004368e-03, 9.44423676e-03, 4.22475338e-02,\n",
       "        1.38086081e-02, 2.73253918e-02, 5.46892881e-02, 2.00597048e-02,\n",
       "        5.49590588e-03, 2.33330727e-02, 2.23915577e-02, 3.19194794e-02,\n",
       "        2.14987993e-02, 6.75874949e-02, 6.42600060e-02, 7.15255737e-07,\n",
       "        2.66520977e-02, 5.40431738e-02, 2.83948183e-02, 4.85706329e-02,\n",
       "        9.47445631e-02, 6.24064207e-02, 9.59277153e-03, 1.10719204e-02]),\n",
       " 'param_metric': masked_array(data=['minkowski', 'minkowski', 'minkowski', 'minkowski',\n",
       "                    'minkowski', 'minkowski', 'minkowski', 'minkowski',\n",
       "                    'minkowski', 'minkowski', 'minkowski', 'minkowski',\n",
       "                    'minkowski', 'minkowski', 'minkowski', 'minkowski',\n",
       "                    'minkowski', 'minkowski', 'minkowski', 'minkowski',\n",
       "                    'minkowski', 'minkowski', 'minkowski', 'minkowski',\n",
       "                    'minkowski', 'minkowski', 'minkowski', 'minkowski',\n",
       "                    'minkowski', 'minkowski', 'minkowski', 'minkowski',\n",
       "                    'minkowski', 'minkowski', 'minkowski', 'minkowski',\n",
       "                    'manhattan', 'manhattan', 'manhattan', 'manhattan',\n",
       "                    'manhattan', 'manhattan', 'manhattan', 'manhattan',\n",
       "                    'manhattan', 'manhattan', 'manhattan', 'manhattan',\n",
       "                    'manhattan', 'manhattan', 'manhattan', 'manhattan',\n",
       "                    'manhattan', 'manhattan', 'manhattan', 'manhattan',\n",
       "                    'manhattan', 'manhattan', 'manhattan', 'manhattan',\n",
       "                    'manhattan', 'manhattan', 'manhattan', 'manhattan',\n",
       "                    'manhattan', 'manhattan', 'manhattan', 'manhattan',\n",
       "                    'manhattan', 'manhattan', 'manhattan', 'manhattan',\n",
       "                    'chebyshev', 'chebyshev', 'chebyshev', 'chebyshev',\n",
       "                    'chebyshev', 'chebyshev', 'chebyshev', 'chebyshev',\n",
       "                    'chebyshev', 'chebyshev', 'chebyshev', 'chebyshev',\n",
       "                    'chebyshev', 'chebyshev', 'chebyshev', 'chebyshev',\n",
       "                    'chebyshev', 'chebyshev', 'chebyshev', 'chebyshev',\n",
       "                    'chebyshev', 'chebyshev', 'chebyshev', 'chebyshev',\n",
       "                    'chebyshev', 'chebyshev', 'chebyshev', 'chebyshev',\n",
       "                    'chebyshev', 'chebyshev', 'chebyshev', 'chebyshev',\n",
       "                    'chebyshev', 'chebyshev', 'chebyshev', 'chebyshev'],\n",
       "              mask=[False, False, False, False, False, False, False, False,\n",
       "                    False, False, False, False, False, False, False, False,\n",
       "                    False, False, False, False, False, False, False, False,\n",
       "                    False, False, False, False, False, False, False, False,\n",
       "                    False, False, False, False, False, False, False, False,\n",
       "                    False, False, False, False, False, False, False, False,\n",
       "                    False, False, False, False, False, False, False, False,\n",
       "                    False, False, False, False, False, False, False, False,\n",
       "                    False, False, False, False, False, False, False, False,\n",
       "                    False, False, False, False, False, False, False, False,\n",
       "                    False, False, False, False, False, False, False, False,\n",
       "                    False, False, False, False, False, False, False, False,\n",
       "                    False, False, False, False, False, False, False, False,\n",
       "                    False, False, False, False],\n",
       "        fill_value='?',\n",
       "             dtype=object),\n",
       " 'param_n_neighbors': masked_array(data=[5, 5, 5, 5, 7, 7, 7, 7, 10, 10, 10, 10, 12, 12, 12, 12,\n",
       "                    15, 15, 15, 15, 25, 25, 25, 25, 40, 40, 40, 40, 50, 50,\n",
       "                    50, 50, 100, 100, 100, 100, 5, 5, 5, 5, 7, 7, 7, 7, 10,\n",
       "                    10, 10, 10, 12, 12, 12, 12, 15, 15, 15, 15, 25, 25, 25,\n",
       "                    25, 40, 40, 40, 40, 50, 50, 50, 50, 100, 100, 100, 100,\n",
       "                    5, 5, 5, 5, 7, 7, 7, 7, 10, 10, 10, 10, 12, 12, 12, 12,\n",
       "                    15, 15, 15, 15, 25, 25, 25, 25, 40, 40, 40, 40, 50, 50,\n",
       "                    50, 50, 100, 100, 100, 100],\n",
       "              mask=[False, False, False, False, False, False, False, False,\n",
       "                    False, False, False, False, False, False, False, False,\n",
       "                    False, False, False, False, False, False, False, False,\n",
       "                    False, False, False, False, False, False, False, False,\n",
       "                    False, False, False, False, False, False, False, False,\n",
       "                    False, False, False, False, False, False, False, False,\n",
       "                    False, False, False, False, False, False, False, False,\n",
       "                    False, False, False, False, False, False, False, False,\n",
       "                    False, False, False, False, False, False, False, False,\n",
       "                    False, False, False, False, False, False, False, False,\n",
       "                    False, False, False, False, False, False, False, False,\n",
       "                    False, False, False, False, False, False, False, False,\n",
       "                    False, False, False, False, False, False, False, False,\n",
       "                    False, False, False, False],\n",
       "        fill_value='?',\n",
       "             dtype=object),\n",
       " 'param_p': masked_array(data=[1, 1, 2, 2, 1, 1, 2, 2, 1, 1, 2, 2, 1, 1, 2, 2, 1, 1,\n",
       "                    2, 2, 1, 1, 2, 2, 1, 1, 2, 2, 1, 1, 2, 2, 1, 1, 2, 2,\n",
       "                    1, 1, 2, 2, 1, 1, 2, 2, 1, 1, 2, 2, 1, 1, 2, 2, 1, 1,\n",
       "                    2, 2, 1, 1, 2, 2, 1, 1, 2, 2, 1, 1, 2, 2, 1, 1, 2, 2,\n",
       "                    1, 1, 2, 2, 1, 1, 2, 2, 1, 1, 2, 2, 1, 1, 2, 2, 1, 1,\n",
       "                    2, 2, 1, 1, 2, 2, 1, 1, 2, 2, 1, 1, 2, 2, 1, 1, 2, 2],\n",
       "              mask=[False, False, False, False, False, False, False, False,\n",
       "                    False, False, False, False, False, False, False, False,\n",
       "                    False, False, False, False, False, False, False, False,\n",
       "                    False, False, False, False, False, False, False, False,\n",
       "                    False, False, False, False, False, False, False, False,\n",
       "                    False, False, False, False, False, False, False, False,\n",
       "                    False, False, False, False, False, False, False, False,\n",
       "                    False, False, False, False, False, False, False, False,\n",
       "                    False, False, False, False, False, False, False, False,\n",
       "                    False, False, False, False, False, False, False, False,\n",
       "                    False, False, False, False, False, False, False, False,\n",
       "                    False, False, False, False, False, False, False, False,\n",
       "                    False, False, False, False, False, False, False, False,\n",
       "                    False, False, False, False],\n",
       "        fill_value='?',\n",
       "             dtype=object),\n",
       " 'param_weights': masked_array(data=['uniform', 'distance', 'uniform', 'distance',\n",
       "                    'uniform', 'distance', 'uniform', 'distance',\n",
       "                    'uniform', 'distance', 'uniform', 'distance',\n",
       "                    'uniform', 'distance', 'uniform', 'distance',\n",
       "                    'uniform', 'distance', 'uniform', 'distance',\n",
       "                    'uniform', 'distance', 'uniform', 'distance',\n",
       "                    'uniform', 'distance', 'uniform', 'distance',\n",
       "                    'uniform', 'distance', 'uniform', 'distance',\n",
       "                    'uniform', 'distance', 'uniform', 'distance',\n",
       "                    'uniform', 'distance', 'uniform', 'distance',\n",
       "                    'uniform', 'distance', 'uniform', 'distance',\n",
       "                    'uniform', 'distance', 'uniform', 'distance',\n",
       "                    'uniform', 'distance', 'uniform', 'distance',\n",
       "                    'uniform', 'distance', 'uniform', 'distance',\n",
       "                    'uniform', 'distance', 'uniform', 'distance',\n",
       "                    'uniform', 'distance', 'uniform', 'distance',\n",
       "                    'uniform', 'distance', 'uniform', 'distance',\n",
       "                    'uniform', 'distance', 'uniform', 'distance',\n",
       "                    'uniform', 'distance', 'uniform', 'distance',\n",
       "                    'uniform', 'distance', 'uniform', 'distance',\n",
       "                    'uniform', 'distance', 'uniform', 'distance',\n",
       "                    'uniform', 'distance', 'uniform', 'distance',\n",
       "                    'uniform', 'distance', 'uniform', 'distance',\n",
       "                    'uniform', 'distance', 'uniform', 'distance',\n",
       "                    'uniform', 'distance', 'uniform', 'distance',\n",
       "                    'uniform', 'distance', 'uniform', 'distance',\n",
       "                    'uniform', 'distance', 'uniform', 'distance'],\n",
       "              mask=[False, False, False, False, False, False, False, False,\n",
       "                    False, False, False, False, False, False, False, False,\n",
       "                    False, False, False, False, False, False, False, False,\n",
       "                    False, False, False, False, False, False, False, False,\n",
       "                    False, False, False, False, False, False, False, False,\n",
       "                    False, False, False, False, False, False, False, False,\n",
       "                    False, False, False, False, False, False, False, False,\n",
       "                    False, False, False, False, False, False, False, False,\n",
       "                    False, False, False, False, False, False, False, False,\n",
       "                    False, False, False, False, False, False, False, False,\n",
       "                    False, False, False, False, False, False, False, False,\n",
       "                    False, False, False, False, False, False, False, False,\n",
       "                    False, False, False, False, False, False, False, False,\n",
       "                    False, False, False, False],\n",
       "        fill_value='?',\n",
       "             dtype=object),\n",
       " 'params': [{'metric': 'minkowski',\n",
       "   'n_neighbors': 5,\n",
       "   'p': 1,\n",
       "   'weights': 'uniform'},\n",
       "  {'metric': 'minkowski', 'n_neighbors': 5, 'p': 1, 'weights': 'distance'},\n",
       "  {'metric': 'minkowski', 'n_neighbors': 5, 'p': 2, 'weights': 'uniform'},\n",
       "  {'metric': 'minkowski', 'n_neighbors': 5, 'p': 2, 'weights': 'distance'},\n",
       "  {'metric': 'minkowski', 'n_neighbors': 7, 'p': 1, 'weights': 'uniform'},\n",
       "  {'metric': 'minkowski', 'n_neighbors': 7, 'p': 1, 'weights': 'distance'},\n",
       "  {'metric': 'minkowski', 'n_neighbors': 7, 'p': 2, 'weights': 'uniform'},\n",
       "  {'metric': 'minkowski', 'n_neighbors': 7, 'p': 2, 'weights': 'distance'},\n",
       "  {'metric': 'minkowski', 'n_neighbors': 10, 'p': 1, 'weights': 'uniform'},\n",
       "  {'metric': 'minkowski', 'n_neighbors': 10, 'p': 1, 'weights': 'distance'},\n",
       "  {'metric': 'minkowski', 'n_neighbors': 10, 'p': 2, 'weights': 'uniform'},\n",
       "  {'metric': 'minkowski', 'n_neighbors': 10, 'p': 2, 'weights': 'distance'},\n",
       "  {'metric': 'minkowski', 'n_neighbors': 12, 'p': 1, 'weights': 'uniform'},\n",
       "  {'metric': 'minkowski', 'n_neighbors': 12, 'p': 1, 'weights': 'distance'},\n",
       "  {'metric': 'minkowski', 'n_neighbors': 12, 'p': 2, 'weights': 'uniform'},\n",
       "  {'metric': 'minkowski', 'n_neighbors': 12, 'p': 2, 'weights': 'distance'},\n",
       "  {'metric': 'minkowski', 'n_neighbors': 15, 'p': 1, 'weights': 'uniform'},\n",
       "  {'metric': 'minkowski', 'n_neighbors': 15, 'p': 1, 'weights': 'distance'},\n",
       "  {'metric': 'minkowski', 'n_neighbors': 15, 'p': 2, 'weights': 'uniform'},\n",
       "  {'metric': 'minkowski', 'n_neighbors': 15, 'p': 2, 'weights': 'distance'},\n",
       "  {'metric': 'minkowski', 'n_neighbors': 25, 'p': 1, 'weights': 'uniform'},\n",
       "  {'metric': 'minkowski', 'n_neighbors': 25, 'p': 1, 'weights': 'distance'},\n",
       "  {'metric': 'minkowski', 'n_neighbors': 25, 'p': 2, 'weights': 'uniform'},\n",
       "  {'metric': 'minkowski', 'n_neighbors': 25, 'p': 2, 'weights': 'distance'},\n",
       "  {'metric': 'minkowski', 'n_neighbors': 40, 'p': 1, 'weights': 'uniform'},\n",
       "  {'metric': 'minkowski', 'n_neighbors': 40, 'p': 1, 'weights': 'distance'},\n",
       "  {'metric': 'minkowski', 'n_neighbors': 40, 'p': 2, 'weights': 'uniform'},\n",
       "  {'metric': 'minkowski', 'n_neighbors': 40, 'p': 2, 'weights': 'distance'},\n",
       "  {'metric': 'minkowski', 'n_neighbors': 50, 'p': 1, 'weights': 'uniform'},\n",
       "  {'metric': 'minkowski', 'n_neighbors': 50, 'p': 1, 'weights': 'distance'},\n",
       "  {'metric': 'minkowski', 'n_neighbors': 50, 'p': 2, 'weights': 'uniform'},\n",
       "  {'metric': 'minkowski', 'n_neighbors': 50, 'p': 2, 'weights': 'distance'},\n",
       "  {'metric': 'minkowski', 'n_neighbors': 100, 'p': 1, 'weights': 'uniform'},\n",
       "  {'metric': 'minkowski', 'n_neighbors': 100, 'p': 1, 'weights': 'distance'},\n",
       "  {'metric': 'minkowski', 'n_neighbors': 100, 'p': 2, 'weights': 'uniform'},\n",
       "  {'metric': 'minkowski', 'n_neighbors': 100, 'p': 2, 'weights': 'distance'},\n",
       "  {'metric': 'manhattan', 'n_neighbors': 5, 'p': 1, 'weights': 'uniform'},\n",
       "  {'metric': 'manhattan', 'n_neighbors': 5, 'p': 1, 'weights': 'distance'},\n",
       "  {'metric': 'manhattan', 'n_neighbors': 5, 'p': 2, 'weights': 'uniform'},\n",
       "  {'metric': 'manhattan', 'n_neighbors': 5, 'p': 2, 'weights': 'distance'},\n",
       "  {'metric': 'manhattan', 'n_neighbors': 7, 'p': 1, 'weights': 'uniform'},\n",
       "  {'metric': 'manhattan', 'n_neighbors': 7, 'p': 1, 'weights': 'distance'},\n",
       "  {'metric': 'manhattan', 'n_neighbors': 7, 'p': 2, 'weights': 'uniform'},\n",
       "  {'metric': 'manhattan', 'n_neighbors': 7, 'p': 2, 'weights': 'distance'},\n",
       "  {'metric': 'manhattan', 'n_neighbors': 10, 'p': 1, 'weights': 'uniform'},\n",
       "  {'metric': 'manhattan', 'n_neighbors': 10, 'p': 1, 'weights': 'distance'},\n",
       "  {'metric': 'manhattan', 'n_neighbors': 10, 'p': 2, 'weights': 'uniform'},\n",
       "  {'metric': 'manhattan', 'n_neighbors': 10, 'p': 2, 'weights': 'distance'},\n",
       "  {'metric': 'manhattan', 'n_neighbors': 12, 'p': 1, 'weights': 'uniform'},\n",
       "  {'metric': 'manhattan', 'n_neighbors': 12, 'p': 1, 'weights': 'distance'},\n",
       "  {'metric': 'manhattan', 'n_neighbors': 12, 'p': 2, 'weights': 'uniform'},\n",
       "  {'metric': 'manhattan', 'n_neighbors': 12, 'p': 2, 'weights': 'distance'},\n",
       "  {'metric': 'manhattan', 'n_neighbors': 15, 'p': 1, 'weights': 'uniform'},\n",
       "  {'metric': 'manhattan', 'n_neighbors': 15, 'p': 1, 'weights': 'distance'},\n",
       "  {'metric': 'manhattan', 'n_neighbors': 15, 'p': 2, 'weights': 'uniform'},\n",
       "  {'metric': 'manhattan', 'n_neighbors': 15, 'p': 2, 'weights': 'distance'},\n",
       "  {'metric': 'manhattan', 'n_neighbors': 25, 'p': 1, 'weights': 'uniform'},\n",
       "  {'metric': 'manhattan', 'n_neighbors': 25, 'p': 1, 'weights': 'distance'},\n",
       "  {'metric': 'manhattan', 'n_neighbors': 25, 'p': 2, 'weights': 'uniform'},\n",
       "  {'metric': 'manhattan', 'n_neighbors': 25, 'p': 2, 'weights': 'distance'},\n",
       "  {'metric': 'manhattan', 'n_neighbors': 40, 'p': 1, 'weights': 'uniform'},\n",
       "  {'metric': 'manhattan', 'n_neighbors': 40, 'p': 1, 'weights': 'distance'},\n",
       "  {'metric': 'manhattan', 'n_neighbors': 40, 'p': 2, 'weights': 'uniform'},\n",
       "  {'metric': 'manhattan', 'n_neighbors': 40, 'p': 2, 'weights': 'distance'},\n",
       "  {'metric': 'manhattan', 'n_neighbors': 50, 'p': 1, 'weights': 'uniform'},\n",
       "  {'metric': 'manhattan', 'n_neighbors': 50, 'p': 1, 'weights': 'distance'},\n",
       "  {'metric': 'manhattan', 'n_neighbors': 50, 'p': 2, 'weights': 'uniform'},\n",
       "  {'metric': 'manhattan', 'n_neighbors': 50, 'p': 2, 'weights': 'distance'},\n",
       "  {'metric': 'manhattan', 'n_neighbors': 100, 'p': 1, 'weights': 'uniform'},\n",
       "  {'metric': 'manhattan', 'n_neighbors': 100, 'p': 1, 'weights': 'distance'},\n",
       "  {'metric': 'manhattan', 'n_neighbors': 100, 'p': 2, 'weights': 'uniform'},\n",
       "  {'metric': 'manhattan', 'n_neighbors': 100, 'p': 2, 'weights': 'distance'},\n",
       "  {'metric': 'chebyshev', 'n_neighbors': 5, 'p': 1, 'weights': 'uniform'},\n",
       "  {'metric': 'chebyshev', 'n_neighbors': 5, 'p': 1, 'weights': 'distance'},\n",
       "  {'metric': 'chebyshev', 'n_neighbors': 5, 'p': 2, 'weights': 'uniform'},\n",
       "  {'metric': 'chebyshev', 'n_neighbors': 5, 'p': 2, 'weights': 'distance'},\n",
       "  {'metric': 'chebyshev', 'n_neighbors': 7, 'p': 1, 'weights': 'uniform'},\n",
       "  {'metric': 'chebyshev', 'n_neighbors': 7, 'p': 1, 'weights': 'distance'},\n",
       "  {'metric': 'chebyshev', 'n_neighbors': 7, 'p': 2, 'weights': 'uniform'},\n",
       "  {'metric': 'chebyshev', 'n_neighbors': 7, 'p': 2, 'weights': 'distance'},\n",
       "  {'metric': 'chebyshev', 'n_neighbors': 10, 'p': 1, 'weights': 'uniform'},\n",
       "  {'metric': 'chebyshev', 'n_neighbors': 10, 'p': 1, 'weights': 'distance'},\n",
       "  {'metric': 'chebyshev', 'n_neighbors': 10, 'p': 2, 'weights': 'uniform'},\n",
       "  {'metric': 'chebyshev', 'n_neighbors': 10, 'p': 2, 'weights': 'distance'},\n",
       "  {'metric': 'chebyshev', 'n_neighbors': 12, 'p': 1, 'weights': 'uniform'},\n",
       "  {'metric': 'chebyshev', 'n_neighbors': 12, 'p': 1, 'weights': 'distance'},\n",
       "  {'metric': 'chebyshev', 'n_neighbors': 12, 'p': 2, 'weights': 'uniform'},\n",
       "  {'metric': 'chebyshev', 'n_neighbors': 12, 'p': 2, 'weights': 'distance'},\n",
       "  {'metric': 'chebyshev', 'n_neighbors': 15, 'p': 1, 'weights': 'uniform'},\n",
       "  {'metric': 'chebyshev', 'n_neighbors': 15, 'p': 1, 'weights': 'distance'},\n",
       "  {'metric': 'chebyshev', 'n_neighbors': 15, 'p': 2, 'weights': 'uniform'},\n",
       "  {'metric': 'chebyshev', 'n_neighbors': 15, 'p': 2, 'weights': 'distance'},\n",
       "  {'metric': 'chebyshev', 'n_neighbors': 25, 'p': 1, 'weights': 'uniform'},\n",
       "  {'metric': 'chebyshev', 'n_neighbors': 25, 'p': 1, 'weights': 'distance'},\n",
       "  {'metric': 'chebyshev', 'n_neighbors': 25, 'p': 2, 'weights': 'uniform'},\n",
       "  {'metric': 'chebyshev', 'n_neighbors': 25, 'p': 2, 'weights': 'distance'},\n",
       "  {'metric': 'chebyshev', 'n_neighbors': 40, 'p': 1, 'weights': 'uniform'},\n",
       "  {'metric': 'chebyshev', 'n_neighbors': 40, 'p': 1, 'weights': 'distance'},\n",
       "  {'metric': 'chebyshev', 'n_neighbors': 40, 'p': 2, 'weights': 'uniform'},\n",
       "  {'metric': 'chebyshev', 'n_neighbors': 40, 'p': 2, 'weights': 'distance'},\n",
       "  {'metric': 'chebyshev', 'n_neighbors': 50, 'p': 1, 'weights': 'uniform'},\n",
       "  {'metric': 'chebyshev', 'n_neighbors': 50, 'p': 1, 'weights': 'distance'},\n",
       "  {'metric': 'chebyshev', 'n_neighbors': 50, 'p': 2, 'weights': 'uniform'},\n",
       "  {'metric': 'chebyshev', 'n_neighbors': 50, 'p': 2, 'weights': 'distance'},\n",
       "  {'metric': 'chebyshev', 'n_neighbors': 100, 'p': 1, 'weights': 'uniform'},\n",
       "  {'metric': 'chebyshev', 'n_neighbors': 100, 'p': 1, 'weights': 'distance'},\n",
       "  {'metric': 'chebyshev', 'n_neighbors': 100, 'p': 2, 'weights': 'uniform'},\n",
       "  {'metric': 'chebyshev', 'n_neighbors': 100, 'p': 2, 'weights': 'distance'}],\n",
       " 'split0_test_score': array([-0.34115097, -0.34213638, -0.34115097, -0.34213638, -0.34607804,\n",
       "        -0.34588096, -0.34607804, -0.34588096, -0.32636973, -0.32656681,\n",
       "        -0.32636973, -0.32656681, -0.33642097, -0.33681514, -0.33642097,\n",
       "        -0.33681514, -0.33366181, -0.33405597, -0.33366181, -0.33405597,\n",
       "        -0.34115097, -0.34174222, -0.34115097, -0.34174222, -0.32735514,\n",
       "        -0.32774931, -0.32735514, -0.32774931, -0.3220339 , -0.32262515,\n",
       "        -0.3220339 , -0.32262515, -0.31533307, -0.31336224, -0.31533307,\n",
       "        -0.31336224, -0.34115097, -0.34213638, -0.34115097, -0.34213638,\n",
       "        -0.34607804, -0.34588096, -0.34607804, -0.34588096, -0.32636973,\n",
       "        -0.32656681, -0.32636973, -0.32656681, -0.33642097, -0.33681514,\n",
       "        -0.33642097, -0.33681514, -0.33366181, -0.33405597, -0.33366181,\n",
       "        -0.33405597, -0.34115097, -0.34174222, -0.34115097, -0.34174222,\n",
       "        -0.32735514, -0.32774931, -0.32735514, -0.32774931, -0.3220339 ,\n",
       "        -0.32262515, -0.3220339 , -0.32262515, -0.31533307, -0.31336224,\n",
       "        -0.31533307, -0.31336224, -0.3407568 , -0.34115097, -0.3407568 ,\n",
       "        -0.34115097, -0.34489555, -0.34588096, -0.34489555, -0.34588096,\n",
       "        -0.32715806, -0.32715806, -0.32715806, -0.32715806, -0.34036263,\n",
       "        -0.3372093 , -0.34036263, -0.3372093 , -0.33760347, -0.33464722,\n",
       "        -0.33760347, -0.33464722, -0.34647221, -0.34371305, -0.34647221,\n",
       "        -0.34371305, -0.33267639, -0.32991723, -0.33267639, -0.32991723,\n",
       "        -0.32696098, -0.32420181, -0.32696098, -0.32420181, -0.3196689 ,\n",
       "        -0.31631849, -0.3196689 , -0.31631849]),\n",
       " 'split1_test_score': array([-0.37196925, -0.371575  , -0.37196925, -0.371575  , -0.36014193,\n",
       "        -0.35915632, -0.36014193, -0.35915632, -0.36093042, -0.35698798,\n",
       "        -0.36093042, -0.35698798, -0.35856495, -0.35383402, -0.35856495,\n",
       "        -0.35383402, -0.35817071, -0.35422827, -0.35817071, -0.35422827,\n",
       "        -0.36428149, -0.36053617, -0.36428149, -0.36053617, -0.32722255,\n",
       "        -0.32170313, -0.32722255, -0.32170313, -0.32663118, -0.32170313,\n",
       "        -0.32663118, -0.32170313, -0.32525133, -0.31933767, -0.32525133,\n",
       "        -0.31933767, -0.37196925, -0.371575  , -0.37196925, -0.371575  ,\n",
       "        -0.36014193, -0.35915632, -0.36014193, -0.35915632, -0.36093042,\n",
       "        -0.35698798, -0.36093042, -0.35698798, -0.35856495, -0.35383402,\n",
       "        -0.35856495, -0.35383402, -0.35817071, -0.35422827, -0.35817071,\n",
       "        -0.35422827, -0.36428149, -0.36053617, -0.36428149, -0.36053617,\n",
       "        -0.32722255, -0.32170313, -0.32722255, -0.32170313, -0.32663118,\n",
       "        -0.32170313, -0.32663118, -0.32170313, -0.32525133, -0.31933767,\n",
       "        -0.32525133, -0.31933767, -0.37413759, -0.37295486, -0.37413759,\n",
       "        -0.37295486, -0.36447861, -0.36112754, -0.36447861, -0.36112754,\n",
       "        -0.36112754, -0.35777646, -0.36112754, -0.35777646, -0.35738222,\n",
       "        -0.35521388, -0.35738222, -0.35521388, -0.35994481, -0.35580524,\n",
       "        -0.35994481, -0.35580524, -0.36211315, -0.36191603, -0.36211315,\n",
       "        -0.36191603, -0.3286024 , -0.32347723, -0.3286024 , -0.32347723,\n",
       "        -0.32939089, -0.32347723, -0.32939089, -0.32347723, -0.32663118,\n",
       "        -0.31953479, -0.32663118, -0.31953479]),\n",
       " 'mean_test_score': array([-0.35656011, -0.35685569, -0.35656011, -0.35685569, -0.35310999,\n",
       "        -0.35251864, -0.35310999, -0.35251864, -0.34365007, -0.34177739,\n",
       "        -0.34365007, -0.34177739, -0.34749296, -0.34532458, -0.34749296,\n",
       "        -0.34532458, -0.34591626, -0.34414212, -0.34591626, -0.34414212,\n",
       "        -0.35271623, -0.35113919, -0.35271623, -0.35113919, -0.32728885,\n",
       "        -0.32472622, -0.32728885, -0.32472622, -0.32433254, -0.32216414,\n",
       "        -0.32433254, -0.32216414, -0.3202922 , -0.31634995, -0.3202922 ,\n",
       "        -0.31634995, -0.35656011, -0.35685569, -0.35656011, -0.35685569,\n",
       "        -0.35310999, -0.35251864, -0.35310999, -0.35251864, -0.34365007,\n",
       "        -0.34177739, -0.34365007, -0.34177739, -0.34749296, -0.34532458,\n",
       "        -0.34749296, -0.34532458, -0.34591626, -0.34414212, -0.34591626,\n",
       "        -0.34414212, -0.35271623, -0.35113919, -0.35271623, -0.35113919,\n",
       "        -0.32728885, -0.32472622, -0.32728885, -0.32472622, -0.32433254,\n",
       "        -0.32216414, -0.32433254, -0.32216414, -0.3202922 , -0.31634995,\n",
       "        -0.3202922 , -0.31634995, -0.3574472 , -0.35705291, -0.3574472 ,\n",
       "        -0.35705291, -0.35468708, -0.35350425, -0.35468708, -0.35350425,\n",
       "        -0.3441428 , -0.34246726, -0.3441428 , -0.34246726, -0.34887243,\n",
       "        -0.34621159, -0.34887243, -0.34621159, -0.34877414, -0.34522623,\n",
       "        -0.34877414, -0.34522623, -0.35429268, -0.35281454, -0.35429268,\n",
       "        -0.35281454, -0.3306394 , -0.32669723, -0.3306394 , -0.32669723,\n",
       "        -0.32817594, -0.32383952, -0.32817594, -0.32383952, -0.32315004,\n",
       "        -0.31792664, -0.32315004, -0.31792664]),\n",
       " 'std_test_score': array([1.54091416e-02, 1.47193117e-02, 1.54091416e-02, 1.47193117e-02,\n",
       "        7.03194146e-03, 6.63767800e-03, 7.03194146e-03, 6.63767800e-03,\n",
       "        1.72803440e-02, 1.52105822e-02, 1.72803440e-02, 1.52105822e-02,\n",
       "        1.10719910e-02, 8.50944364e-03, 1.10719910e-02, 8.50944364e-03,\n",
       "        1.22544512e-02, 1.00861478e-02, 1.22544512e-02, 1.00861478e-02,\n",
       "        1.15652623e-02, 9.39697834e-03, 1.15652623e-02, 9.39697834e-03,\n",
       "        6.62965559e-05, 3.02308798e-03, 6.62965559e-05, 3.02308798e-03,\n",
       "        2.29864320e-03, 4.61006786e-04, 2.29864320e-03, 4.61006786e-04,\n",
       "        4.95913001e-03, 2.98771558e-03, 4.95913001e-03, 2.98771558e-03,\n",
       "        1.54091416e-02, 1.47193117e-02, 1.54091416e-02, 1.47193117e-02,\n",
       "        7.03194146e-03, 6.63767800e-03, 7.03194146e-03, 6.63767800e-03,\n",
       "        1.72803440e-02, 1.52105822e-02, 1.72803440e-02, 1.52105822e-02,\n",
       "        1.10719910e-02, 8.50944364e-03, 1.10719910e-02, 8.50944364e-03,\n",
       "        1.22544512e-02, 1.00861478e-02, 1.22544512e-02, 1.00861478e-02,\n",
       "        1.15652623e-02, 9.39697834e-03, 1.15652623e-02, 9.39697834e-03,\n",
       "        6.62965559e-05, 3.02308798e-03, 6.62965559e-05, 3.02308798e-03,\n",
       "        2.29864320e-03, 4.61006786e-04, 2.29864320e-03, 4.61006786e-04,\n",
       "        4.95913001e-03, 2.98771558e-03, 4.95913001e-03, 2.98771558e-03,\n",
       "        1.66903959e-02, 1.59019467e-02, 1.66903959e-02, 1.59019467e-02,\n",
       "        9.79153317e-03, 7.62328809e-03, 9.79153317e-03, 7.62328809e-03,\n",
       "        1.69847386e-02, 1.53092015e-02, 1.69847386e-02, 1.53092015e-02,\n",
       "        8.50979328e-03, 9.00228753e-03, 8.50979328e-03, 9.00228753e-03,\n",
       "        1.11706686e-02, 1.05790112e-02, 1.11706686e-02, 1.05790112e-02,\n",
       "        7.82046838e-03, 9.10148956e-03, 7.82046838e-03, 9.10148956e-03,\n",
       "        2.03699227e-03, 3.21999633e-03, 2.03699227e-03, 3.21999633e-03,\n",
       "        1.21495772e-03, 3.62290379e-04, 1.21495772e-03, 3.62290379e-04,\n",
       "        3.48114221e-03, 1.60815282e-03, 3.48114221e-03, 1.60815282e-03]),\n",
       " 'rank_test_score': array([ 97, 101,  97, 101,  87,  77,  87,  77,  43,  37,  43,  37,  65,\n",
       "         55,  65,  55,  59,  47,  59,  47,  81,  73,  81,  73,  29,  23,\n",
       "         29,  23,  19,  11,  19,  11,   7,   1,   7,   1,  97, 101,  97,\n",
       "        101,  87,  77,  87,  77,  43,  37,  43,  37,  65,  55,  65,  55,\n",
       "         59,  47,  59,  47,  81,  73,  81,  73,  29,  23,  29,  23,  19,\n",
       "         11,  19,  11,   7,   1,   7,   1, 107, 105, 107, 105,  95,  91,\n",
       "         95,  91,  51,  41,  51,  41,  71,  63,  71,  63,  69,  53,  69,\n",
       "         53,  93,  85,  93,  85,  35,  27,  35,  27,  33,  17,  33,  17,\n",
       "         15,   5,  15,   5]),\n",
       " 'split0_train_score': array([-0.34318943, -0.33924699, -0.34318943, -0.33924699, -0.34299231,\n",
       "        -0.33806426, -0.34299231, -0.33806426, -0.33136211, -0.32544845,\n",
       "        -0.33136211, -0.32544845, -0.34042973, -0.33550168, -0.34042973,\n",
       "        -0.33550168, -0.33510743, -0.33017938, -0.33510743, -0.33017938,\n",
       "        -0.3455549 , -0.33786714, -0.3455549 , -0.33786714, -0.33254485,\n",
       "        -0.3240686 , -0.33254485, -0.3240686 , -0.33195348, -0.32328011,\n",
       "        -0.33195348, -0.32328011, -0.32525133, -0.31184703, -0.32525133,\n",
       "        -0.31184703, -0.34318943, -0.33924699, -0.34318943, -0.33924699,\n",
       "        -0.34299231, -0.33806426, -0.34299231, -0.33806426, -0.33136211,\n",
       "        -0.32544845, -0.33136211, -0.32544845, -0.34042973, -0.33550168,\n",
       "        -0.34042973, -0.33550168, -0.33510743, -0.33017938, -0.33510743,\n",
       "        -0.33017938, -0.3455549 , -0.33786714, -0.3455549 , -0.33786714,\n",
       "        -0.33254485, -0.3240686 , -0.33254485, -0.3240686 , -0.33195348,\n",
       "        -0.32328011, -0.33195348, -0.32328011, -0.32525133, -0.31184703,\n",
       "        -0.32525133, -0.31184703, -0.34220382, -0.33924699, -0.34220382,\n",
       "        -0.33924699, -0.34062685, -0.33806426, -0.34062685, -0.33806426,\n",
       "        -0.32722255, -0.32544845, -0.32722255, -0.32544845, -0.34259807,\n",
       "        -0.33550168, -0.34259807, -0.33550168, -0.33727577, -0.33017938,\n",
       "        -0.33727577, -0.33017938, -0.34713187, -0.33786714, -0.34713187,\n",
       "        -0.33786714, -0.33333333, -0.3240686 , -0.33333333, -0.3240686 ,\n",
       "        -0.33096787, -0.32328011, -0.33096787, -0.32328011, -0.32544845,\n",
       "        -0.31184703, -0.32544845, -0.31184703]),\n",
       " 'split1_train_score': array([-0.36578636, -0.36204178, -0.36578636, -0.36204178, -0.35021679,\n",
       "        -0.34666929, -0.35021679, -0.34666929, -0.35139929, -0.34528971,\n",
       "        -0.35139929, -0.34528971, -0.35179346, -0.34450138, -0.35179346,\n",
       "        -0.34450138, -0.35041387, -0.3431218 , -0.35041387, -0.3431218 ,\n",
       "        -0.3582972 , -0.34923138, -0.3582972 , -0.34923138, -0.32676389,\n",
       "        -0.32006307, -0.32676389, -0.32006307, -0.32676389, -0.32006307,\n",
       "        -0.32676389, -0.32006307, -0.31533307, -0.30764683, -0.31533307,\n",
       "        -0.30764683, -0.36578636, -0.36204178, -0.36578636, -0.36204178,\n",
       "        -0.35021679, -0.34666929, -0.35021679, -0.34666929, -0.35139929,\n",
       "        -0.34528971, -0.35139929, -0.34528971, -0.35179346, -0.34450138,\n",
       "        -0.35179346, -0.34450138, -0.35041387, -0.3431218 , -0.35041387,\n",
       "        -0.3431218 , -0.3582972 , -0.34923138, -0.3582972 , -0.34923138,\n",
       "        -0.32676389, -0.32006307, -0.32676389, -0.32006307, -0.32676389,\n",
       "        -0.32006307, -0.32676389, -0.32006307, -0.31533307, -0.30764683,\n",
       "        -0.31533307, -0.30764683, -0.36618053, -0.36204178, -0.36618053,\n",
       "        -0.36204178, -0.35179346, -0.34666929, -0.35179346, -0.34666929,\n",
       "        -0.35139929, -0.34528971, -0.35139929, -0.34528971, -0.35080804,\n",
       "        -0.34450138, -0.35080804, -0.34450138, -0.35120221, -0.3431218 ,\n",
       "        -0.35120221, -0.3431218 , -0.35514387, -0.34923138, -0.35514387,\n",
       "        -0.34923138, -0.32912889, -0.32006307, -0.32912889, -0.32006307,\n",
       "        -0.32932598, -0.32006307, -0.32932598, -0.32006307, -0.31828932,\n",
       "        -0.30764683, -0.31828932, -0.30764683]),\n",
       " 'mean_train_score': array([-0.3544879 , -0.35064439, -0.3544879 , -0.35064439, -0.34660455,\n",
       "        -0.34236678, -0.34660455, -0.34236678, -0.3413807 , -0.33536908,\n",
       "        -0.3413807 , -0.33536908, -0.34611159, -0.34000153, -0.34611159,\n",
       "        -0.34000153, -0.34276065, -0.33665059, -0.34276065, -0.33665059,\n",
       "        -0.35192605, -0.34354926, -0.35192605, -0.34354926, -0.32965437,\n",
       "        -0.32206583, -0.32965437, -0.32206583, -0.32935869, -0.32167159,\n",
       "        -0.32935869, -0.32167159, -0.3202922 , -0.30974693, -0.3202922 ,\n",
       "        -0.30974693, -0.3544879 , -0.35064439, -0.3544879 , -0.35064439,\n",
       "        -0.34660455, -0.34236678, -0.34660455, -0.34236678, -0.3413807 ,\n",
       "        -0.33536908, -0.3413807 , -0.33536908, -0.34611159, -0.34000153,\n",
       "        -0.34611159, -0.34000153, -0.34276065, -0.33665059, -0.34276065,\n",
       "        -0.33665059, -0.35192605, -0.34354926, -0.35192605, -0.34354926,\n",
       "        -0.32965437, -0.32206583, -0.32965437, -0.32206583, -0.32935869,\n",
       "        -0.32167159, -0.32935869, -0.32167159, -0.3202922 , -0.30974693,\n",
       "        -0.3202922 , -0.30974693, -0.35419218, -0.35064439, -0.35419218,\n",
       "        -0.35064439, -0.34621015, -0.34236678, -0.34621015, -0.34236678,\n",
       "        -0.33931092, -0.33536908, -0.33931092, -0.33536908, -0.34670305,\n",
       "        -0.34000153, -0.34670305, -0.34000153, -0.34423899, -0.33665059,\n",
       "        -0.34423899, -0.33665059, -0.35113787, -0.34354926, -0.35113787,\n",
       "        -0.34354926, -0.33123111, -0.32206583, -0.33123111, -0.32206583,\n",
       "        -0.33014692, -0.32167159, -0.33014692, -0.32167159, -0.32186889,\n",
       "        -0.30974693, -0.32186889, -0.30974693]),\n",
       " 'std_train_score': array([0.01129846, 0.01139739, 0.01129846, 0.01139739, 0.00361224,\n",
       "        0.00430252, 0.00361224, 0.00430252, 0.01001859, 0.00992063,\n",
       "        0.01001859, 0.00992063, 0.00568187, 0.00449985, 0.00568187,\n",
       "        0.00449985, 0.00765322, 0.00647121, 0.00765322, 0.00647121,\n",
       "        0.00637115, 0.00568212, 0.00637115, 0.00568212, 0.00289048,\n",
       "        0.00200277, 0.00289048, 0.00200277, 0.00259479, 0.00160852,\n",
       "        0.00259479, 0.00160852, 0.00495913, 0.0021001 , 0.00495913,\n",
       "        0.0021001 , 0.01129846, 0.01139739, 0.01129846, 0.01139739,\n",
       "        0.00361224, 0.00430252, 0.00361224, 0.00430252, 0.01001859,\n",
       "        0.00992063, 0.01001859, 0.00992063, 0.00568187, 0.00449985,\n",
       "        0.00568187, 0.00449985, 0.00765322, 0.00647121, 0.00765322,\n",
       "        0.00647121, 0.00637115, 0.00568212, 0.00637115, 0.00568212,\n",
       "        0.00289048, 0.00200277, 0.00289048, 0.00200277, 0.00259479,\n",
       "        0.00160852, 0.00259479, 0.00160852, 0.00495913, 0.0021001 ,\n",
       "        0.00495913, 0.0021001 , 0.01198835, 0.01139739, 0.01198835,\n",
       "        0.01139739, 0.0055833 , 0.00430252, 0.0055833 , 0.00430252,\n",
       "        0.01208837, 0.00992063, 0.01208837, 0.00992063, 0.00410499,\n",
       "        0.00449985, 0.00410499, 0.00449985, 0.00696322, 0.00647121,\n",
       "        0.00696322, 0.00647121, 0.004006  , 0.00568212, 0.004006  ,\n",
       "        0.00568212, 0.00210222, 0.00200277, 0.00210222, 0.00200277,\n",
       "        0.00082095, 0.00160852, 0.00082095, 0.00160852, 0.00357957,\n",
       "        0.0021001 , 0.00357957, 0.0021001 ])}"
      ]
     },
     "execution_count": 11,
     "metadata": {},
     "output_type": "execute_result"
    }
   ],
   "source": [
    "grid_CV.cv_results_"
   ]
  },
  {
   "cell_type": "markdown",
   "metadata": {},
   "source": [
    "Right now (temporary) we will this hyperparameters as the best one:"
   ]
  },
  {
   "cell_type": "code",
   "execution_count": 12,
   "metadata": {
    "ExecuteTime": {
     "end_time": "2020-06-03T00:41:28.859995Z",
     "start_time": "2020-06-03T00:41:28.852998Z"
    }
   },
   "outputs": [
    {
     "data": {
      "text/plain": [
       "{'metric': 'minkowski', 'n_neighbors': 100, 'p': 1, 'weights': 'distance'}"
      ]
     },
     "execution_count": 12,
     "metadata": {},
     "output_type": "execute_result"
    }
   ],
   "source": [
    "grid_CV.best_params_"
   ]
  },
  {
   "cell_type": "markdown",
   "metadata": {},
   "source": [
    "#### Feature selection"
   ]
  },
  {
   "cell_type": "markdown",
   "metadata": {},
   "source": [
    "Feature ranking"
   ]
  },
  {
   "cell_type": "code",
   "execution_count": 13,
   "metadata": {
    "ExecuteTime": {
     "end_time": "2020-06-03T00:41:41.293988Z",
     "start_time": "2020-06-03T00:41:41.289008Z"
    }
   },
   "outputs": [],
   "source": [
    "fr.sort_values(\"mi_score\", ascending=False, inplace=True)"
   ]
  },
  {
   "cell_type": "code",
   "execution_count": 14,
   "metadata": {
    "ExecuteTime": {
     "end_time": "2020-06-03T00:41:41.547666Z",
     "start_time": "2020-06-03T00:41:41.535661Z"
    }
   },
   "outputs": [
    {
     "data": {
      "text/html": [
       "<div>\n",
       "<style scoped>\n",
       "    .dataframe tbody tr th:only-of-type {\n",
       "        vertical-align: middle;\n",
       "    }\n",
       "\n",
       "    .dataframe tbody tr th {\n",
       "        vertical-align: top;\n",
       "    }\n",
       "\n",
       "    .dataframe thead th {\n",
       "        text-align: right;\n",
       "    }\n",
       "</style>\n",
       "<table border=\"1\" class=\"dataframe\">\n",
       "  <thead>\n",
       "    <tr style=\"text-align: right;\">\n",
       "      <th></th>\n",
       "      <th>mi_score</th>\n",
       "      <th>Correlation</th>\n",
       "    </tr>\n",
       "  </thead>\n",
       "  <tbody>\n",
       "    <tr>\n",
       "      <th>('never',).5</th>\n",
       "      <td>0.046534</td>\n",
       "      <td>0.312901</td>\n",
       "    </tr>\n",
       "    <tr>\n",
       "      <th>('Kid(s)',)</th>\n",
       "      <td>0.025818</td>\n",
       "      <td>0.041959</td>\n",
       "    </tr>\n",
       "    <tr>\n",
       "      <th>('Partner',)</th>\n",
       "      <td>0.017346</td>\n",
       "      <td>0.017552</td>\n",
       "    </tr>\n",
       "    <tr>\n",
       "      <th>('gt8',)</th>\n",
       "      <td>0.016947</td>\n",
       "      <td>0.000000</td>\n",
       "    </tr>\n",
       "    <tr>\n",
       "      <th>('2h',)</th>\n",
       "      <td>0.016850</td>\n",
       "      <td>0.136174</td>\n",
       "    </tr>\n",
       "  </tbody>\n",
       "</table>\n",
       "</div>"
      ],
      "text/plain": [
       "              mi_score  Correlation\n",
       "('never',).5  0.046534     0.312901\n",
       "('Kid(s)',)   0.025818     0.041959\n",
       "('Partner',)  0.017346     0.017552\n",
       "('gt8',)      0.016947     0.000000\n",
       "('2h',)       0.016850     0.136174"
      ]
     },
     "execution_count": 14,
     "metadata": {},
     "output_type": "execute_result"
    }
   ],
   "source": [
    "fr.head()"
   ]
  },
  {
   "cell_type": "code",
   "execution_count": 15,
   "metadata": {
    "ExecuteTime": {
     "end_time": "2020-06-03T00:41:42.128655Z",
     "start_time": "2020-06-03T00:41:42.124658Z"
    }
   },
   "outputs": [],
   "source": [
    "mi_features = fr.iloc[0:20].index.tolist()"
   ]
  },
  {
   "cell_type": "code",
   "execution_count": 16,
   "metadata": {
    "ExecuteTime": {
     "end_time": "2020-06-03T00:41:42.902705Z",
     "start_time": "2020-06-03T00:41:42.896717Z"
    }
   },
   "outputs": [],
   "source": [
    "fr[\"corr_abs\"] = np.abs(fr[\"Correlation\"])\n",
    "fr.sort_values(\"corr_abs\", ascending=False, inplace=True)\n",
    "corr_features = fr.iloc[0:20].index.tolist()"
   ]
  },
  {
   "cell_type": "markdown",
   "metadata": {},
   "source": [
    "Forward elimination"
   ]
  },
  {
   "cell_type": "code",
   "execution_count": 17,
   "metadata": {
    "ExecuteTime": {
     "end_time": "2020-06-03T00:42:12.381729Z",
     "start_time": "2020-06-03T00:42:12.373739Z"
    }
   },
   "outputs": [],
   "source": [
    "forward_elimination = [\n",
    " \"('Home',)\",\n",
    " \"('No Urgent Place',)\",\n",
    " \"('Work',)\",\n",
    " \"('Alone',)\",\n",
    " \"('Friend(s)',)\",\n",
    " \"('Kid(s)',)\",\n",
    " \"('Partner',)\",\n",
    " \"('Rainy',)\",\n",
    " \"('Snowy',)\",\n",
    " \"('Sunny',)\",\n",
    " '(30,)',\n",
    " '(55,)',\n",
    " '(80,)',\n",
    " \"('10AM',)\",\n",
    " \"('10PM',)\",\n",
    " \"('2PM',)\",\n",
    " \"('6PM',)\",\n",
    " \"('7AM',)\",\n",
    " \"('Bar',)\",\n",
    " \"('Carry out & Take away',)\",\n",
    " \"('Coffee House',)\",\n",
    " \"('Restaurant(20-50)',)\",\n",
    " \"('Restaurant(<20)',)\",\n",
    " \"('1d',)\",\n",
    " \"('2h',)\",\n",
    " \"('Female',)\",\n",
    " \"('Male',)\",\n",
    " \"('21',)\",\n",
    " \"('26',)\",\n",
    " \"('31',)\",\n",
    " \"('36',)\",\n",
    " \"('41',)\",\n",
    " \"('46',)\",\n",
    " \"('50plus',)\",\n",
    " \"('below21',)\",\n",
    " \"('Divorced',)\",\n",
    " \"('Married partner',)\",\n",
    " \"('Single',)\",\n",
    " \"('Unmarried partner',)\",\n",
    " \"('Widowed',)\",\n",
    " \"('Associates degree',)\",\n",
    " \"('Bachelors degree',)\",\n",
    " \"('Graduate degree (Masters or Doctorate)',)\",\n",
    " \"('High School Graduate',)\",\n",
    " \"('Some High School',)\",\n",
    " \"('Some college - no degree',)\",\n",
    " \"('Architecture & Engineering',)\",\n",
    " \"('Arts Design Entertainment Sports & Media',)\",\n",
    " \"('Building & Grounds Cleaning & Maintenance',)\",\n",
    " \"('Business & Financial',)\",\n",
    " \"('Community & Social Services',)\",\n",
    " \"('Computer & Mathematical',)\",\n",
    " \"('Construction & Extraction',)\",\n",
    " \"('Education&Training&Library',)\",\n",
    " \"('Farming Fishing & Forestry',)\",\n",
    " \"('Food Preparation & Serving Related',)\",\n",
    " \"('Healthcare Practitioners & Technical',)\",\n",
    " \"('Healthcare Support',)\",\n",
    " \"('Installation Maintenance & Repair',)\",\n",
    " \"('Legal',)\",\n",
    " \"('Life Physical Social Science',)\",\n",
    " \"('Management',)\",\n",
    " \"('Office & Administrative Support',)\",\n",
    " \"('Personal Care & Service',)\",\n",
    " \"('Production Occupations',)\",\n",
    " \"('Protective Service',)\",\n",
    " \"('Retired',)\",\n",
    " \"('Sales & Related',)\",\n",
    " \"('Student',)\",\n",
    " \"('Transportation & Material Moving',)\",\n",
    " \"('Unemployed',)\",\n",
    " \"('$100000 or More',)\",\n",
    " \"('$12500 - $24999',)\",\n",
    " \"('$25000 - $37499',)\",\n",
    " \"('$37500 - $49999',)\",\n",
    " \"('$50000 - $62499',)\",\n",
    " \"('$62500 - $74999',)\",\n",
    " \"('$75000 - $87499',)\",\n",
    " \"('$87500 - $99999',)\",\n",
    " \"('Less than $12500',)\",\n",
    " \"('1~3',)\",\n",
    " \"('4~8',)\",\n",
    " \"('gt8',)\",\n",
    " \"('less1',)\",\n",
    " \"('never',)\",\n",
    " \"('1~3',).1\",\n",
    " \"('4~8',).1\",\n",
    " \"('gt8',).1\",\n",
    " \"('less1',).1\",\n",
    " \"('never',).1\",\n",
    " \"('1~3',).2\",\n",
    " \"('4~8',).2\",\n",
    " \"('gt8',).2\",\n",
    " \"('less1',).2\",\n",
    " \"('never',).2\",\n",
    " \"('1~3',).3\",\n",
    " \"('4~8',).3\",\n",
    " \"('gt8',).3\",\n",
    " \"('less1',).3\",\n",
    " \"('never',).3\",\n",
    " \"('1~3',).4\",\n",
    " \"('4~8',).4\",\n",
    " \"('gt8',).4\",\n",
    " \"('less1',).4\",\n",
    " \"('never',).4\",\n",
    " \"('1~3',).5\",\n",
    " \"('4~8',).5\",\n",
    " \"('gt8',).5\",\n",
    " \"('less1',).5\",\n",
    " \"('never',).5\",\n",
    " \"('High_Acceptance',)\",\n",
    " \"('Low_Acceptance',)\",\n",
    " \"('Medium_Acceptance',)\",\n",
    " \"('Medium_High_Acceptance',)\",\n",
    " \"('Medium_Low_Acceptance',)\",\n",
    " 'has_children',\n",
    " 'toCoupon_GEQ15min',\n",
    " 'toCoupon_GEQ25min',\n",
    " 'direction_same',\n",
    " 'to_Coupon',\n",
    "]"
   ]
  },
  {
   "cell_type": "code",
   "execution_count": 18,
   "metadata": {
    "ExecuteTime": {
     "end_time": "2020-06-03T00:42:14.846486Z",
     "start_time": "2020-06-03T00:42:14.843487Z"
    }
   },
   "outputs": [],
   "source": [
    "candidates = [i for i in forward_elimination if \"]\" not in i]"
   ]
  },
  {
   "cell_type": "code",
   "execution_count": 19,
   "metadata": {},
   "outputs": [
    {
     "data": {
      "text/plain": [
       "{'metric': 'minkowski', 'n_neighbors': 100, 'p': 1, 'weights': 'distance'}"
      ]
     },
     "execution_count": 19,
     "metadata": {},
     "output_type": "execute_result"
    }
   ],
   "source": [
    "grid_CV.best_params_"
   ]
  },
  {
   "cell_type": "code",
   "execution_count": 20,
   "metadata": {},
   "outputs": [],
   "source": [
    "model = KNeighborsClassifier(**grid_CV.best_params_)"
   ]
  },
  {
   "cell_type": "code",
   "execution_count": 21,
   "metadata": {
    "ExecuteTime": {
     "end_time": "2020-06-03T00:42:18.795031Z",
     "start_time": "2020-06-03T00:42:18.792046Z"
    }
   },
   "outputs": [],
   "source": [
    "sf = SFS(\n",
    "    model,\n",
    "    n_features_to_select=5,\n",
    "    direction='forward',\n",
    "    scoring=mse,\n",
    "    cv=2,\n",
    "    n_jobs=-1,\n",
    ")"
   ]
  },
  {
   "cell_type": "code",
   "execution_count": 23,
   "metadata": {},
   "outputs": [],
   "source": [
    "sffit = sf.fit(\n",
    "    df.loc[:, candidates].values, df.loc[:, \"target\"].values.ravel()\n",
    ")"
   ]
  },
  {
   "cell_type": "code",
   "execution_count": 24,
   "metadata": {},
   "outputs": [
    {
     "data": {
      "text/plain": [
       "Index(['('Partner',)', '('Carry out & Take away',)', '('Restaurant(20-50)',)',\n",
       "       '('1~3',).1', '('never',).5'],\n",
       "      dtype='object')"
      ]
     },
     "execution_count": 24,
     "metadata": {},
     "output_type": "execute_result"
    }
   ],
   "source": [
    "sf_features_mask = sffit.get_support()\n",
    "sf_features = df.loc[:, candidates].columns[sf_features_mask]\n",
    "sf_features"
   ]
  },
  {
   "cell_type": "markdown",
   "metadata": {},
   "source": [
    "#### Hyperparametes tunning for each group of variables"
   ]
  },
  {
   "cell_type": "code",
   "execution_count": 25,
   "metadata": {
    "ExecuteTime": {
     "end_time": "2020-06-03T00:51:37.210131Z",
     "start_time": "2020-06-03T00:51:37.206117Z"
    }
   },
   "outputs": [],
   "source": [
    "param = {\n",
    "    \"n_neighbors\": [3],\n",
    "    \"weights\": [\"uniform\", \"distance\"],\n",
    "    \"metric\": [\"minkowski\", \"manhattan\", \"chebyshev\"],\n",
    "    \"p\": [1, 2],\n",
    "}\n",
    "mse = make_scorer(mean_squared_error, greater_is_better=True)"
   ]
  },
  {
   "cell_type": "code",
   "execution_count": 26,
   "metadata": {
    "ExecuteTime": {
     "end_time": "2020-06-03T00:51:37.218126Z",
     "start_time": "2020-06-03T00:51:37.212115Z"
    }
   },
   "outputs": [],
   "source": [
    "def cv_proc(var):\n",
    "    model = KNeighborsClassifier()\n",
    "    grid_CV = GridSearchCV(\n",
    "        model, param, cv=2, scoring=mse, return_train_score=True, n_jobs=-1\n",
    "    )\n",
    "    grid_CV.fit(df.loc[:, var].values, df.loc[:, \"target\"].values.ravel())\n",
    "    print(grid_CV.best_params_)\n",
    "    print(grid_CV.best_score_)"
   ]
  },
  {
   "cell_type": "code",
   "execution_count": 27,
   "metadata": {
    "ExecuteTime": {
     "end_time": "2020-06-03T00:59:56.853183Z",
     "start_time": "2020-06-03T00:59:27.001390Z"
    }
   },
   "outputs": [
    {
     "name": "stdout",
     "output_type": "stream",
     "text": [
      "{'metric': 'chebyshev', 'n_neighbors': 3, 'p': 1, 'weights': 'uniform'}\n",
      "0.37025696024483223\n"
     ]
    }
   ],
   "source": [
    "cv_proc(mi_features)"
   ]
  },
  {
   "cell_type": "code",
   "execution_count": 28,
   "metadata": {
    "ExecuteTime": {
     "end_time": "2020-06-03T01:00:26.052800Z",
     "start_time": "2020-06-03T00:59:56.855181Z"
    }
   },
   "outputs": [
    {
     "name": "stdout",
     "output_type": "stream",
     "text": [
      "{'metric': 'minkowski', 'n_neighbors': 3, 'p': 1, 'weights': 'distance'}\n",
      "0.34079158903578893\n"
     ]
    }
   ],
   "source": [
    "cv_proc(corr_features)"
   ]
  },
  {
   "cell_type": "code",
   "execution_count": 29,
   "metadata": {
    "ExecuteTime": {
     "end_time": "2020-06-03T01:00:44.038181Z",
     "start_time": "2020-06-03T01:00:26.054802Z"
    }
   },
   "outputs": [
    {
     "name": "stdout",
     "output_type": "stream",
     "text": [
      "{'metric': 'chebyshev', 'n_neighbors': 3, 'p': 1, 'weights': 'distance'}\n",
      "0.447616766047399\n"
     ]
    }
   ],
   "source": [
    "cv_proc(sf_features)"
   ]
  },
  {
   "cell_type": "markdown",
   "metadata": {},
   "source": [
    "#### Final models comparison - winner obtaining"
   ]
  },
  {
   "cell_type": "code",
   "execution_count": 30,
   "metadata": {},
   "outputs": [],
   "source": [
    "def proper_CV(x, y, model, display_res=False):\n",
    "    train_score = list()\n",
    "    valid_score = list()\n",
    "    kf = KFold(n_splits=6, shuffle=True, random_state=42)\n",
    "\n",
    "    for train_index, valid_index in kf.split(x):\n",
    "        train_x, valid_x = x.iloc[train_index], x.iloc[valid_index]\n",
    "        train_y, valid_y = y.iloc[train_index], y.iloc[valid_index]\n",
    "\n",
    "        model.fit(train_x.values, train_y.values.ravel())\n",
    "\n",
    "        pred_y_train = model.predict(train_x.values)\n",
    "        rmse_train = np.sqrt(mean_squared_error(train_y, pred_y_train))\n",
    "        train_score.append(rmse_train)\n",
    "\n",
    "        pred_y_val = model.predict(valid_x.values)\n",
    "        rmse_val = np.sqrt(mean_squared_error(valid_y, pred_y_val))\n",
    "        valid_score.append(rmse_val)\n",
    "\n",
    "    if display_res:\n",
    "        view = pd.DataFrame([train_score, valid_score]).T.rename(\n",
    "            columns={0: \"cv_train\", 1: \"cv_val\"}\n",
    "        )\n",
    "        display(view)\n",
    "        return train_score, valid_score, view\n",
    "    else:\n",
    "        return train_score, valid_score"
   ]
  },
  {
   "cell_type": "code",
   "execution_count": 170,
   "metadata": {
    "ExecuteTime": {
     "end_time": "2020-06-03T01:02:43.785020Z",
     "start_time": "2020-06-03T01:02:43.772094Z"
    }
   },
   "outputs": [],
   "source": [
    "df = df.sort_values(by=\"rok\").reset_index(drop=True)"
   ]
  },
  {
   "cell_type": "code",
   "execution_count": 32,
   "metadata": {},
   "outputs": [],
   "source": [
    "hp = [\n",
    "    {'metric': 'chebyshev', 'n_neighbors': 3, 'p': 1, 'weights': 'uniform'},\n",
    "    {'metric': 'minkowski', 'n_neighbors': 3, 'p': 1, 'weights': 'distance'},\n",
    "    {'metric': 'chebyshev', 'n_neighbors': 3, 'p': 1, 'weights': 'distance'},\n",
    "    ]"
   ]
  },
  {
   "cell_type": "code",
   "execution_count": 34,
   "metadata": {
    "ExecuteTime": {
     "end_time": "2020-06-03T01:05:51.565094Z",
     "start_time": "2020-06-03T01:05:49.038624Z"
    }
   },
   "outputs": [
    {
     "data": {
      "text/html": [
       "<div>\n",
       "<style scoped>\n",
       "    .dataframe tbody tr th:only-of-type {\n",
       "        vertical-align: middle;\n",
       "    }\n",
       "\n",
       "    .dataframe tbody tr th {\n",
       "        vertical-align: top;\n",
       "    }\n",
       "\n",
       "    .dataframe thead th {\n",
       "        text-align: right;\n",
       "    }\n",
       "</style>\n",
       "<table border=\"1\" class=\"dataframe\">\n",
       "  <thead>\n",
       "    <tr style=\"text-align: right;\">\n",
       "      <th></th>\n",
       "      <th>cv_train</th>\n",
       "      <th>cv_val</th>\n",
       "    </tr>\n",
       "  </thead>\n",
       "  <tbody>\n",
       "    <tr>\n",
       "      <th>0</th>\n",
       "      <td>0.531781</td>\n",
       "      <td>0.618375</td>\n",
       "    </tr>\n",
       "    <tr>\n",
       "      <th>1</th>\n",
       "      <td>0.536841</td>\n",
       "      <td>0.613759</td>\n",
       "    </tr>\n",
       "    <tr>\n",
       "      <th>2</th>\n",
       "      <td>0.533415</td>\n",
       "      <td>0.579055</td>\n",
       "    </tr>\n",
       "    <tr>\n",
       "      <th>3</th>\n",
       "      <td>0.532083</td>\n",
       "      <td>0.606002</td>\n",
       "    </tr>\n",
       "    <tr>\n",
       "      <th>4</th>\n",
       "      <td>0.532972</td>\n",
       "      <td>0.583632</td>\n",
       "    </tr>\n",
       "    <tr>\n",
       "      <th>5</th>\n",
       "      <td>0.565276</td>\n",
       "      <td>0.579565</td>\n",
       "    </tr>\n",
       "  </tbody>\n",
       "</table>\n",
       "</div>"
      ],
      "text/plain": [
       "   cv_train    cv_val\n",
       "0  0.531781  0.618375\n",
       "1  0.536841  0.613759\n",
       "2  0.533415  0.579055\n",
       "3  0.532083  0.606002\n",
       "4  0.532972  0.583632\n",
       "5  0.565276  0.579565"
      ]
     },
     "metadata": {},
     "output_type": "display_data"
    }
   ],
   "source": [
    "model = KNeighborsClassifier(**hp[0])\n",
    "var = mi_features\n",
    "cv_output0 = proper_CV(df.loc[:, var], df.loc[:, \"target\"], model, display_res=True)"
   ]
  },
  {
   "cell_type": "code",
   "execution_count": 39,
   "metadata": {
    "ExecuteTime": {
     "end_time": "2020-06-03T01:05:55.154518Z",
     "start_time": "2020-06-03T01:05:54.393834Z"
    }
   },
   "outputs": [
    {
     "data": {
      "text/html": [
       "<div>\n",
       "<style scoped>\n",
       "    .dataframe tbody tr th:only-of-type {\n",
       "        vertical-align: middle;\n",
       "    }\n",
       "\n",
       "    .dataframe tbody tr th {\n",
       "        vertical-align: top;\n",
       "    }\n",
       "\n",
       "    .dataframe thead th {\n",
       "        text-align: right;\n",
       "    }\n",
       "</style>\n",
       "<table border=\"1\" class=\"dataframe\">\n",
       "  <thead>\n",
       "    <tr style=\"text-align: right;\">\n",
       "      <th></th>\n",
       "      <th>cv_train</th>\n",
       "      <th>cv_val</th>\n",
       "    </tr>\n",
       "  </thead>\n",
       "  <tbody>\n",
       "    <tr>\n",
       "      <th>0</th>\n",
       "      <td>0.533779</td>\n",
       "      <td>0.590508</td>\n",
       "    </tr>\n",
       "    <tr>\n",
       "      <th>1</th>\n",
       "      <td>0.525823</td>\n",
       "      <td>0.588174</td>\n",
       "    </tr>\n",
       "    <tr>\n",
       "      <th>2</th>\n",
       "      <td>0.530525</td>\n",
       "      <td>0.584139</td>\n",
       "    </tr>\n",
       "    <tr>\n",
       "      <th>3</th>\n",
       "      <td>0.531861</td>\n",
       "      <td>0.584139</td>\n",
       "    </tr>\n",
       "    <tr>\n",
       "      <th>4</th>\n",
       "      <td>0.528179</td>\n",
       "      <td>0.582618</td>\n",
       "    </tr>\n",
       "    <tr>\n",
       "      <th>5</th>\n",
       "      <td>0.529521</td>\n",
       "      <td>0.580075</td>\n",
       "    </tr>\n",
       "  </tbody>\n",
       "</table>\n",
       "</div>"
      ],
      "text/plain": [
       "   cv_train    cv_val\n",
       "0  0.533779  0.590508\n",
       "1  0.525823  0.588174\n",
       "2  0.530525  0.584139\n",
       "3  0.531861  0.584139\n",
       "4  0.528179  0.582618\n",
       "5  0.529521  0.580075"
      ]
     },
     "metadata": {},
     "output_type": "display_data"
    }
   ],
   "source": [
    "model = KNeighborsClassifier(**hp[1])\n",
    "var = corr_features\n",
    "cv_output1 = proper_CV(df.loc[:, var], df.loc[:, \"target\"], model, display_res=True)"
   ]
  },
  {
   "cell_type": "code",
   "execution_count": 40,
   "metadata": {
    "ExecuteTime": {
     "end_time": "2020-06-03T01:05:55.582289Z",
     "start_time": "2020-06-03T01:05:55.155517Z"
    }
   },
   "outputs": [
    {
     "data": {
      "text/html": [
       "<div>\n",
       "<style scoped>\n",
       "    .dataframe tbody tr th:only-of-type {\n",
       "        vertical-align: middle;\n",
       "    }\n",
       "\n",
       "    .dataframe tbody tr th {\n",
       "        vertical-align: top;\n",
       "    }\n",
       "\n",
       "    .dataframe thead th {\n",
       "        text-align: right;\n",
       "    }\n",
       "</style>\n",
       "<table border=\"1\" class=\"dataframe\">\n",
       "  <thead>\n",
       "    <tr style=\"text-align: right;\">\n",
       "      <th></th>\n",
       "      <th>cv_train</th>\n",
       "      <th>cv_val</th>\n",
       "    </tr>\n",
       "  </thead>\n",
       "  <tbody>\n",
       "    <tr>\n",
       "      <th>0</th>\n",
       "      <td>0.633670</td>\n",
       "      <td>0.644581</td>\n",
       "    </tr>\n",
       "    <tr>\n",
       "      <th>1</th>\n",
       "      <td>0.635310</td>\n",
       "      <td>0.636928</td>\n",
       "    </tr>\n",
       "    <tr>\n",
       "      <th>2</th>\n",
       "      <td>0.624231</td>\n",
       "      <td>0.631332</td>\n",
       "    </tr>\n",
       "    <tr>\n",
       "      <th>3</th>\n",
       "      <td>0.623188</td>\n",
       "      <td>0.624268</td>\n",
       "    </tr>\n",
       "    <tr>\n",
       "      <th>4</th>\n",
       "      <td>0.644366</td>\n",
       "      <td>0.650251</td>\n",
       "    </tr>\n",
       "    <tr>\n",
       "      <th>5</th>\n",
       "      <td>0.579021</td>\n",
       "      <td>0.558256</td>\n",
       "    </tr>\n",
       "  </tbody>\n",
       "</table>\n",
       "</div>"
      ],
      "text/plain": [
       "   cv_train    cv_val\n",
       "0  0.633670  0.644581\n",
       "1  0.635310  0.636928\n",
       "2  0.624231  0.631332\n",
       "3  0.623188  0.624268\n",
       "4  0.644366  0.650251\n",
       "5  0.579021  0.558256"
      ]
     },
     "metadata": {},
     "output_type": "display_data"
    }
   ],
   "source": [
    "model = KNeighborsClassifier(**hp[2])\n",
    "var = sf_features\n",
    "cv_output2 = proper_CV(df.loc[:, var], df.loc[:, \"target\"], model, display_res=True)"
   ]
  },
  {
   "cell_type": "code",
   "execution_count": 41,
   "metadata": {
    "ExecuteTime": {
     "end_time": "2020-06-03T01:06:02.064252Z",
     "start_time": "2020-06-03T01:06:02.048240Z"
    }
   },
   "outputs": [
    {
     "data": {
      "text/html": [
       "<div>\n",
       "<style scoped>\n",
       "    .dataframe tbody tr th:only-of-type {\n",
       "        vertical-align: middle;\n",
       "    }\n",
       "\n",
       "    .dataframe tbody tr th {\n",
       "        vertical-align: top;\n",
       "    }\n",
       "\n",
       "    .dataframe thead th {\n",
       "        text-align: right;\n",
       "    }\n",
       "</style>\n",
       "<table border=\"1\" class=\"dataframe\">\n",
       "  <thead>\n",
       "    <tr style=\"text-align: right;\">\n",
       "      <th></th>\n",
       "      <th>train_mean</th>\n",
       "      <th>test_mean</th>\n",
       "    </tr>\n",
       "  </thead>\n",
       "  <tbody>\n",
       "    <tr>\n",
       "      <th>0</th>\n",
       "      <td>0.538728</td>\n",
       "      <td>0.596731</td>\n",
       "    </tr>\n",
       "    <tr>\n",
       "      <th>1</th>\n",
       "      <td>0.529948</td>\n",
       "      <td>0.584942</td>\n",
       "    </tr>\n",
       "    <tr>\n",
       "      <th>2</th>\n",
       "      <td>0.623298</td>\n",
       "      <td>0.624269</td>\n",
       "    </tr>\n",
       "  </tbody>\n",
       "</table>\n",
       "</div>"
      ],
      "text/plain": [
       "   train_mean  test_mean\n",
       "0    0.538728   0.596731\n",
       "1    0.529948   0.584942\n",
       "2    0.623298   0.624269"
      ]
     },
     "execution_count": 41,
     "metadata": {},
     "output_type": "execute_result"
    }
   ],
   "source": [
    "pd.DataFrame(\n",
    "    [\n",
    "        cv_output0[2].mean().tolist(),\n",
    "        cv_output1[2].mean().tolist(),\n",
    "        cv_output2[2].mean().tolist(),\n",
    "        \n",
    "    ],\n",
    "    columns=[\"train_mean\", \"test_mean\"],\n",
    ")"
   ]
  },
  {
   "cell_type": "code",
   "execution_count": 42,
   "metadata": {
    "ExecuteTime": {
     "end_time": "2020-06-03T01:06:02.081220Z",
     "start_time": "2020-06-03T01:06:02.065230Z"
    }
   },
   "outputs": [
    {
     "data": {
      "text/html": [
       "<div>\n",
       "<style scoped>\n",
       "    .dataframe tbody tr th:only-of-type {\n",
       "        vertical-align: middle;\n",
       "    }\n",
       "\n",
       "    .dataframe tbody tr th {\n",
       "        vertical-align: top;\n",
       "    }\n",
       "\n",
       "    .dataframe thead th {\n",
       "        text-align: right;\n",
       "    }\n",
       "</style>\n",
       "<table border=\"1\" class=\"dataframe\">\n",
       "  <thead>\n",
       "    <tr style=\"text-align: right;\">\n",
       "      <th></th>\n",
       "      <th>train_std</th>\n",
       "      <th>test_std</th>\n",
       "    </tr>\n",
       "  </thead>\n",
       "  <tbody>\n",
       "    <tr>\n",
       "      <th>0</th>\n",
       "      <td>0.013131</td>\n",
       "      <td>0.018017</td>\n",
       "    </tr>\n",
       "    <tr>\n",
       "      <th>1</th>\n",
       "      <td>0.002793</td>\n",
       "      <td>0.003790</td>\n",
       "    </tr>\n",
       "    <tr>\n",
       "      <th>2</th>\n",
       "      <td>0.023053</td>\n",
       "      <td>0.033632</td>\n",
       "    </tr>\n",
       "  </tbody>\n",
       "</table>\n",
       "</div>"
      ],
      "text/plain": [
       "   train_std  test_std\n",
       "0   0.013131  0.018017\n",
       "1   0.002793  0.003790\n",
       "2   0.023053  0.033632"
      ]
     },
     "execution_count": 42,
     "metadata": {},
     "output_type": "execute_result"
    }
   ],
   "source": [
    "pd.DataFrame(\n",
    "    [\n",
    "        cv_output0[2].std().tolist(),\n",
    "        cv_output1[2].std().tolist(),\n",
    "        cv_output2[2].std().tolist(),\n",
    "        \n",
    "    ],\n",
    "    columns=[\"train_std\", \"test_std\"],\n",
    ")"
   ]
  },
  {
   "cell_type": "markdown",
   "metadata": {},
   "source": [
    "Second model seems to be the best one "
   ]
  },
  {
   "cell_type": "code",
   "execution_count": 43,
   "metadata": {
    "ExecuteTime": {
     "end_time": "2020-06-03T01:06:51.014580Z",
     "start_time": "2020-06-03T01:06:50.999156Z"
    }
   },
   "outputs": [
    {
     "name": "stdout",
     "output_type": "stream",
     "text": [
      "[\"('never',).5\", \"('Carry out & Take away',)\", \"('4~8',).5\", \"('Restaurant(<20)',)\", \"('1~3',).5\", \"('Bar',)\", \"('2h',)\", \"('1d',)\", \"('Friend(s)',)\", \"('No Urgent Place',)\", \"('never',).1\", 'to_Coupon', \"('1~3',).1\", 'toCoupon_GEQ25min', \"('Alone',)\", \"('Sunny',)\", \"('Coffee House',)\", \"('gt8',).5\", \"('Restaurant(20-50)',)\", \"('2PM',)\"]\n"
     ]
    }
   ],
   "source": [
    "print(corr_features)"
   ]
  },
  {
   "cell_type": "markdown",
   "metadata": {},
   "source": [
    "#### Fit final model and save it"
   ]
  },
  {
   "cell_type": "code",
   "execution_count": 44,
   "metadata": {
    "ExecuteTime": {
     "end_time": "2020-06-03T01:07:10.236691Z",
     "start_time": "2020-06-03T01:07:10.179740Z"
    }
   },
   "outputs": [
    {
     "data": {
      "text/html": [
       "<style>#sk-container-id-2 {color: black;}#sk-container-id-2 pre{padding: 0;}#sk-container-id-2 div.sk-toggleable {background-color: white;}#sk-container-id-2 label.sk-toggleable__label {cursor: pointer;display: block;width: 100%;margin-bottom: 0;padding: 0.3em;box-sizing: border-box;text-align: center;}#sk-container-id-2 label.sk-toggleable__label-arrow:before {content: \"▸\";float: left;margin-right: 0.25em;color: #696969;}#sk-container-id-2 label.sk-toggleable__label-arrow:hover:before {color: black;}#sk-container-id-2 div.sk-estimator:hover label.sk-toggleable__label-arrow:before {color: black;}#sk-container-id-2 div.sk-toggleable__content {max-height: 0;max-width: 0;overflow: hidden;text-align: left;background-color: #f0f8ff;}#sk-container-id-2 div.sk-toggleable__content pre {margin: 0.2em;color: black;border-radius: 0.25em;background-color: #f0f8ff;}#sk-container-id-2 input.sk-toggleable__control:checked~div.sk-toggleable__content {max-height: 200px;max-width: 100%;overflow: auto;}#sk-container-id-2 input.sk-toggleable__control:checked~label.sk-toggleable__label-arrow:before {content: \"▾\";}#sk-container-id-2 div.sk-estimator input.sk-toggleable__control:checked~label.sk-toggleable__label {background-color: #d4ebff;}#sk-container-id-2 div.sk-label input.sk-toggleable__control:checked~label.sk-toggleable__label {background-color: #d4ebff;}#sk-container-id-2 input.sk-hidden--visually {border: 0;clip: rect(1px 1px 1px 1px);clip: rect(1px, 1px, 1px, 1px);height: 1px;margin: -1px;overflow: hidden;padding: 0;position: absolute;width: 1px;}#sk-container-id-2 div.sk-estimator {font-family: monospace;background-color: #f0f8ff;border: 1px dotted black;border-radius: 0.25em;box-sizing: border-box;margin-bottom: 0.5em;}#sk-container-id-2 div.sk-estimator:hover {background-color: #d4ebff;}#sk-container-id-2 div.sk-parallel-item::after {content: \"\";width: 100%;border-bottom: 1px solid gray;flex-grow: 1;}#sk-container-id-2 div.sk-label:hover label.sk-toggleable__label {background-color: #d4ebff;}#sk-container-id-2 div.sk-serial::before {content: \"\";position: absolute;border-left: 1px solid gray;box-sizing: border-box;top: 0;bottom: 0;left: 50%;z-index: 0;}#sk-container-id-2 div.sk-serial {display: flex;flex-direction: column;align-items: center;background-color: white;padding-right: 0.2em;padding-left: 0.2em;position: relative;}#sk-container-id-2 div.sk-item {position: relative;z-index: 1;}#sk-container-id-2 div.sk-parallel {display: flex;align-items: stretch;justify-content: center;background-color: white;position: relative;}#sk-container-id-2 div.sk-item::before, #sk-container-id-2 div.sk-parallel-item::before {content: \"\";position: absolute;border-left: 1px solid gray;box-sizing: border-box;top: 0;bottom: 0;left: 50%;z-index: -1;}#sk-container-id-2 div.sk-parallel-item {display: flex;flex-direction: column;z-index: 1;position: relative;background-color: white;}#sk-container-id-2 div.sk-parallel-item:first-child::after {align-self: flex-end;width: 50%;}#sk-container-id-2 div.sk-parallel-item:last-child::after {align-self: flex-start;width: 50%;}#sk-container-id-2 div.sk-parallel-item:only-child::after {width: 0;}#sk-container-id-2 div.sk-dashed-wrapped {border: 1px dashed gray;margin: 0 0.4em 0.5em 0.4em;box-sizing: border-box;padding-bottom: 0.4em;background-color: white;}#sk-container-id-2 div.sk-label label {font-family: monospace;font-weight: bold;display: inline-block;line-height: 1.2em;}#sk-container-id-2 div.sk-label-container {text-align: center;}#sk-container-id-2 div.sk-container {/* jupyter's `normalize.less` sets `[hidden] { display: none; }` but bootstrap.min.css set `[hidden] { display: none !important; }` so we also need the `!important` here to be able to override the default hidden behavior on the sphinx rendered scikit-learn.org. See: https://github.com/scikit-learn/scikit-learn/issues/21755 */display: inline-block !important;position: relative;}#sk-container-id-2 div.sk-text-repr-fallback {display: none;}</style><div id=\"sk-container-id-2\" class=\"sk-top-container\"><div class=\"sk-text-repr-fallback\"><pre>KNeighborsClassifier(n_neighbors=3, p=1, weights=&#x27;distance&#x27;)</pre><b>In a Jupyter environment, please rerun this cell to show the HTML representation or trust the notebook. <br />On GitHub, the HTML representation is unable to render, please try loading this page with nbviewer.org.</b></div><div class=\"sk-container\" hidden><div class=\"sk-item\"><div class=\"sk-estimator sk-toggleable\"><input class=\"sk-toggleable__control sk-hidden--visually\" id=\"sk-estimator-id-4\" type=\"checkbox\" checked><label for=\"sk-estimator-id-4\" class=\"sk-toggleable__label sk-toggleable__label-arrow\">KNeighborsClassifier</label><div class=\"sk-toggleable__content\"><pre>KNeighborsClassifier(n_neighbors=3, p=1, weights=&#x27;distance&#x27;)</pre></div></div></div></div></div>"
      ],
      "text/plain": [
       "KNeighborsClassifier(n_neighbors=3, p=1, weights='distance')"
      ]
     },
     "execution_count": 44,
     "metadata": {},
     "output_type": "execute_result"
    }
   ],
   "source": [
    "model = KNeighborsClassifier(**hp[1])\n",
    "model.fit(df.loc[:, corr_features].values, df.loc[:, \"target\"].values.ravel())"
   ]
  },
  {
   "cell_type": "code",
   "execution_count": 49,
   "metadata": {
    "ExecuteTime": {
     "end_time": "2020-06-03T01:07:11.662512Z",
     "start_time": "2020-06-03T01:07:11.660527Z"
    }
   },
   "outputs": [],
   "source": [
    "filename = \"../models/knn.sav\""
   ]
  },
  {
   "cell_type": "code",
   "execution_count": 50,
   "metadata": {
    "ExecuteTime": {
     "end_time": "2020-06-03T01:07:12.135716Z",
     "start_time": "2020-06-03T01:07:12.127721Z"
    }
   },
   "outputs": [],
   "source": [
    "pickle.dump(model, open(filename, \"wb\"))"
   ]
  }
 ],
 "metadata": {
  "kernelspec": {
   "display_name": "Python 3 (ipykernel)",
   "language": "python",
   "name": "python3"
  },
  "language_info": {
   "codemirror_mode": {
    "name": "ipython",
    "version": 3
   },
   "file_extension": ".py",
   "mimetype": "text/x-python",
   "name": "python",
   "nbconvert_exporter": "python",
   "pygments_lexer": "ipython3",
   "version": "3.11.5"
  },
  "vscode": {
   "interpreter": {
    "hash": "bff0f7c864331389fa2ce0c5d534e26d0bfdbc8f9c927a5938dc8a191fde6d96"
   }
  }
 },
 "nbformat": 4,
 "nbformat_minor": 4
}
